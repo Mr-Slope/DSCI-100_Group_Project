{
 "cells": [
  {
   "cell_type": "markdown",
   "id": "73fd1675-56df-4810-a75c-9cedfbde7ba5",
   "metadata": {},
   "source": [
    "# Predicting Heart Disease with KNN Classification in Cleveland: <br> Determining the Effects of Age, Sex, Heart Rate and Cholesterol"
   ]
  },
  {
   "cell_type": "markdown",
   "id": "b2d58212-512f-4b3c-a600-ac0b86646acd",
   "metadata": {},
   "source": [
    "## Introduction\n",
    "\n",
    "Heart disease, also known as cardiovascular disease, is the top leading cause of death across the world, according to the [WHO](\"https://www.who.int/news-room/fact-sheets/detail/the-top-10-causes-of-death\"). Heart disease refers to several heart-affecting conditions, with the most common condition causing blood vessels to narrow, restricting blood flow and potentially leading to heart attack..\n",
    "\n",
    "The predictive question we wish to answer is: <br>\n",
    "***“What factors contribute the most to the presence of heart disease, and do they change in respect to age, sex, maximum heart rate, or cholesterol?”***\n",
    "\n",
    "Through data analysis, we will use the heart disease data set from the [UC Irvine Machine Learning Repository](\"https://archive.ics.uci.edu/dataset/45/heart+disease\"), collected on June 30, 1988. This data set includes various observations from people in Cleveland, Hungary, Switzerland and the VA Long Beach. We will focus on the **Cleveland data set** to answer our question.\n"
   ]
  },
  {
   "cell_type": "markdown",
   "id": "e35a5a8f-97e7-492b-92d4-94f137a73510",
   "metadata": {},
   "source": [
    "## Preliminary exploratory data analysis\n",
    "Using only training data, visualize the data with at least one plot relevant to the analysis you plan to do (this is exploratory data analysis). An example of a useful visualization could be one that compares the distributions of each of the predictor variables you plan to use in your analysis."
   ]
  },
  {
   "cell_type": "code",
   "execution_count": 81,
   "id": "cfd30326-773b-4462-be12-26fe7a66d8b1",
   "metadata": {
    "tags": []
   },
   "outputs": [
    {
     "name": "stderr",
     "output_type": "stream",
     "text": [
      "── \u001b[1mAttaching packages\u001b[22m ────────────────────────────────────── tidymodels 1.0.0 ──\n",
      "\n",
      "\u001b[32m✔\u001b[39m \u001b[34mbroom       \u001b[39m 1.0.2     \u001b[32m✔\u001b[39m \u001b[34mrsample     \u001b[39m 1.1.1\n",
      "\u001b[32m✔\u001b[39m \u001b[34mdials       \u001b[39m 1.1.0     \u001b[32m✔\u001b[39m \u001b[34mtune        \u001b[39m 1.0.1\n",
      "\u001b[32m✔\u001b[39m \u001b[34minfer       \u001b[39m 1.0.4     \u001b[32m✔\u001b[39m \u001b[34mworkflows   \u001b[39m 1.1.2\n",
      "\u001b[32m✔\u001b[39m \u001b[34mmodeldata   \u001b[39m 1.0.1     \u001b[32m✔\u001b[39m \u001b[34mworkflowsets\u001b[39m 1.0.0\n",
      "\u001b[32m✔\u001b[39m \u001b[34mparsnip     \u001b[39m 1.0.3     \u001b[32m✔\u001b[39m \u001b[34myardstick   \u001b[39m 1.1.0\n",
      "\u001b[32m✔\u001b[39m \u001b[34mrecipes     \u001b[39m 1.0.4     \n",
      "\n",
      "── \u001b[1mConflicts\u001b[22m ───────────────────────────────────────── tidymodels_conflicts() ──\n",
      "\u001b[31m✖\u001b[39m \u001b[34mscales\u001b[39m::\u001b[32mdiscard()\u001b[39m masks \u001b[34mpurrr\u001b[39m::discard()\n",
      "\u001b[31m✖\u001b[39m \u001b[34mdplyr\u001b[39m::\u001b[32mfilter()\u001b[39m   masks \u001b[34mstats\u001b[39m::filter()\n",
      "\u001b[31m✖\u001b[39m \u001b[34mrecipes\u001b[39m::\u001b[32mfixed()\u001b[39m  masks \u001b[34mstringr\u001b[39m::fixed()\n",
      "\u001b[31m✖\u001b[39m \u001b[34mdplyr\u001b[39m::\u001b[32mlag()\u001b[39m      masks \u001b[34mstats\u001b[39m::lag()\n",
      "\u001b[31m✖\u001b[39m \u001b[34myardstick\u001b[39m::\u001b[32mspec()\u001b[39m masks \u001b[34mreadr\u001b[39m::spec()\n",
      "\u001b[31m✖\u001b[39m \u001b[34mrecipes\u001b[39m::\u001b[32mstep()\u001b[39m   masks \u001b[34mstats\u001b[39m::step()\n",
      "\u001b[34m•\u001b[39m Search for functions across packages at \u001b[32mhttps://www.tidymodels.org/find/\u001b[39m\n",
      "\n"
     ]
    }
   ],
   "source": [
    "# Libraries\n",
    "library(tidyverse)\n",
    "library(tidymodels)\n",
    "set.seed(29)"
   ]
  },
  {
   "cell_type": "code",
   "execution_count": 82,
   "id": "51c6296c-b544-4b1d-9541-a4b9da53086f",
   "metadata": {
    "tags": []
   },
   "outputs": [
    {
     "name": "stderr",
     "output_type": "stream",
     "text": [
      "\u001b[1mRows: \u001b[22m\u001b[34m303\u001b[39m \u001b[1mColumns: \u001b[22m\u001b[34m14\u001b[39m\n",
      "\u001b[36m──\u001b[39m \u001b[1mColumn specification\u001b[22m \u001b[36m────────────────────────────────────────────────────────\u001b[39m\n",
      "\u001b[1mDelimiter:\u001b[22m \",\"\n",
      "\u001b[31mchr\u001b[39m  (2): X12, X13\n",
      "\u001b[32mdbl\u001b[39m (12): X1, X2, X3, X4, X5, X6, X7, X8, X9, X10, X11, X14\n",
      "\n",
      "\u001b[36mℹ\u001b[39m Use `spec()` to retrieve the full column specification for this data.\n",
      "\u001b[36mℹ\u001b[39m Specify the column types or set `show_col_types = FALSE` to quiet this message.\n"
     ]
    },
    {
     "data": {
      "text/html": [
       "<table class=\"dataframe\">\n",
       "<caption>A tibble: 6 × 14</caption>\n",
       "<thead>\n",
       "\t<tr><th scope=col>age</th><th scope=col>sex</th><th scope=col>cp</th><th scope=col>trestbps</th><th scope=col>chol</th><th scope=col>fbs</th><th scope=col>restecg</th><th scope=col>thalach</th><th scope=col>exang</th><th scope=col>oldpeak</th><th scope=col>slope</th><th scope=col>ca</th><th scope=col>thal</th><th scope=col>num</th></tr>\n",
       "\t<tr><th scope=col>&lt;dbl&gt;</th><th scope=col>&lt;fct&gt;</th><th scope=col>&lt;dbl&gt;</th><th scope=col>&lt;dbl&gt;</th><th scope=col>&lt;dbl&gt;</th><th scope=col>&lt;dbl&gt;</th><th scope=col>&lt;dbl&gt;</th><th scope=col>&lt;dbl&gt;</th><th scope=col>&lt;dbl&gt;</th><th scope=col>&lt;dbl&gt;</th><th scope=col>&lt;dbl&gt;</th><th scope=col>&lt;dbl&gt;</th><th scope=col>&lt;dbl&gt;</th><th scope=col>&lt;fct&gt;</th></tr>\n",
       "</thead>\n",
       "<tbody>\n",
       "\t<tr><td>63</td><td>male  </td><td>1</td><td>145</td><td>233</td><td>1</td><td>2</td><td>150</td><td>0</td><td>2.3</td><td>3</td><td>0</td><td>6</td><td>0</td></tr>\n",
       "\t<tr><td>67</td><td>male  </td><td>4</td><td>160</td><td>286</td><td>0</td><td>2</td><td>108</td><td>1</td><td>1.5</td><td>2</td><td>3</td><td>3</td><td>1</td></tr>\n",
       "\t<tr><td>67</td><td>male  </td><td>4</td><td>120</td><td>229</td><td>0</td><td>2</td><td>129</td><td>1</td><td>2.6</td><td>2</td><td>2</td><td>7</td><td>1</td></tr>\n",
       "\t<tr><td>37</td><td>male  </td><td>3</td><td>130</td><td>250</td><td>0</td><td>0</td><td>187</td><td>0</td><td>3.5</td><td>3</td><td>0</td><td>3</td><td>0</td></tr>\n",
       "\t<tr><td>41</td><td>female</td><td>2</td><td>130</td><td>204</td><td>0</td><td>2</td><td>172</td><td>0</td><td>1.4</td><td>1</td><td>0</td><td>3</td><td>0</td></tr>\n",
       "\t<tr><td>56</td><td>male  </td><td>2</td><td>120</td><td>236</td><td>0</td><td>0</td><td>178</td><td>0</td><td>0.8</td><td>1</td><td>0</td><td>3</td><td>0</td></tr>\n",
       "</tbody>\n",
       "</table>\n"
      ],
      "text/latex": [
       "A tibble: 6 × 14\n",
       "\\begin{tabular}{llllllllllllll}\n",
       " age & sex & cp & trestbps & chol & fbs & restecg & thalach & exang & oldpeak & slope & ca & thal & num\\\\\n",
       " <dbl> & <fct> & <dbl> & <dbl> & <dbl> & <dbl> & <dbl> & <dbl> & <dbl> & <dbl> & <dbl> & <dbl> & <dbl> & <fct>\\\\\n",
       "\\hline\n",
       "\t 63 & male   & 1 & 145 & 233 & 1 & 2 & 150 & 0 & 2.3 & 3 & 0 & 6 & 0\\\\\n",
       "\t 67 & male   & 4 & 160 & 286 & 0 & 2 & 108 & 1 & 1.5 & 2 & 3 & 3 & 1\\\\\n",
       "\t 67 & male   & 4 & 120 & 229 & 0 & 2 & 129 & 1 & 2.6 & 2 & 2 & 7 & 1\\\\\n",
       "\t 37 & male   & 3 & 130 & 250 & 0 & 0 & 187 & 0 & 3.5 & 3 & 0 & 3 & 0\\\\\n",
       "\t 41 & female & 2 & 130 & 204 & 0 & 2 & 172 & 0 & 1.4 & 1 & 0 & 3 & 0\\\\\n",
       "\t 56 & male   & 2 & 120 & 236 & 0 & 0 & 178 & 0 & 0.8 & 1 & 0 & 3 & 0\\\\\n",
       "\\end{tabular}\n"
      ],
      "text/markdown": [
       "\n",
       "A tibble: 6 × 14\n",
       "\n",
       "| age &lt;dbl&gt; | sex &lt;fct&gt; | cp &lt;dbl&gt; | trestbps &lt;dbl&gt; | chol &lt;dbl&gt; | fbs &lt;dbl&gt; | restecg &lt;dbl&gt; | thalach &lt;dbl&gt; | exang &lt;dbl&gt; | oldpeak &lt;dbl&gt; | slope &lt;dbl&gt; | ca &lt;dbl&gt; | thal &lt;dbl&gt; | num &lt;fct&gt; |\n",
       "|---|---|---|---|---|---|---|---|---|---|---|---|---|---|\n",
       "| 63 | male   | 1 | 145 | 233 | 1 | 2 | 150 | 0 | 2.3 | 3 | 0 | 6 | 0 |\n",
       "| 67 | male   | 4 | 160 | 286 | 0 | 2 | 108 | 1 | 1.5 | 2 | 3 | 3 | 1 |\n",
       "| 67 | male   | 4 | 120 | 229 | 0 | 2 | 129 | 1 | 2.6 | 2 | 2 | 7 | 1 |\n",
       "| 37 | male   | 3 | 130 | 250 | 0 | 0 | 187 | 0 | 3.5 | 3 | 0 | 3 | 0 |\n",
       "| 41 | female | 2 | 130 | 204 | 0 | 2 | 172 | 0 | 1.4 | 1 | 0 | 3 | 0 |\n",
       "| 56 | male   | 2 | 120 | 236 | 0 | 0 | 178 | 0 | 0.8 | 1 | 0 | 3 | 0 |\n",
       "\n"
      ],
      "text/plain": [
       "  age sex    cp trestbps chol fbs restecg thalach exang oldpeak slope ca thal\n",
       "1 63  male   1  145      233  1   2       150     0     2.3     3     0  6   \n",
       "2 67  male   4  160      286  0   2       108     1     1.5     2     3  3   \n",
       "3 67  male   4  120      229  0   2       129     1     2.6     2     2  7   \n",
       "4 37  male   3  130      250  0   0       187     0     3.5     3     0  3   \n",
       "5 41  female 2  130      204  0   2       172     0     1.4     1     0  3   \n",
       "6 56  male   2  120      236  0   0       178     0     0.8     1     0  3   \n",
       "  num\n",
       "1 0  \n",
       "2 1  \n",
       "3 1  \n",
       "4 0  \n",
       "5 0  \n",
       "6 0  "
      ]
     },
     "metadata": {},
     "output_type": "display_data"
    }
   ],
   "source": [
    "# Reading the data from the web\n",
    "\n",
    "# Specifying new column names & old ones\n",
    "\n",
    "heart_data <- read_csv(\"https://raw.githubusercontent.com/Mr-Slope/DSCI-100_Group_Project/main/processed.cleveland.data\",\n",
    "                      col_names=FALSE) |>\n",
    "    rename(age = X1,\n",
    "          sex = X2,\n",
    "          cp = X3,\n",
    "          trestbps = X4,\n",
    "          chol = X5,\n",
    "          fbs = X6,\n",
    "          restecg = X7,\n",
    "          thalach = X8,\n",
    "          exang = X9,\n",
    "          oldpeak = X10,\n",
    "          slope = X11,\n",
    "          ca = X12,\n",
    "          thal = X13,\n",
    "          num = X14)\n",
    "\n",
    "heart_tidy <- heart_data |>\n",
    "    filter(ca != \"?\", thal != \"?\") |>\n",
    "    mutate(across(c(ca, thal), as.numeric)) |>\n",
    "    mutate(num = as_factor(num)) |> # convert to factor to predict\n",
    "    mutate(sex = as_factor(sex)) |> \n",
    "    mutate(num = fct_recode(num, \"1\" = \"2\", \"1\" = \"3\", \"1\" = \"4\")) |> # in the data files, 1,2,3,4 are all sick\n",
    "    mutate(sex = fct_recode(sex, \"male\" = \"1\", \"female\" = \"0\")) |>\n",
    "    tibble() \n",
    "\n",
    "head(heart_tidy)\n"
   ]
  },
  {
   "cell_type": "code",
   "execution_count": 85,
   "id": "aa964ebe-c87d-413c-86c6-ccbf6ac49a47",
   "metadata": {
    "tags": []
   },
   "outputs": [],
   "source": [
    "# Splitting the data\n",
    "heart_split <- initial_split(heart_tidy, prop = 0.75, strata = num)\n",
    "heart_training <- training(heart_split)\n",
    "heart_testing <- testing(heart_split)\n"
   ]
  },
  {
   "cell_type": "code",
   "execution_count": 89,
   "id": "69adfc96-bc38-4bca-b910-e601faac0fdf",
   "metadata": {
    "tags": []
   },
   "outputs": [
    {
     "data": {
      "text/html": [
       "<table class=\"dataframe\">\n",
       "<caption>A tibble: 1 × 12</caption>\n",
       "<thead>\n",
       "\t<tr><th scope=col>age</th><th scope=col>cp</th><th scope=col>trestbps</th><th scope=col>chol</th><th scope=col>fbs</th><th scope=col>restecg</th><th scope=col>thalach</th><th scope=col>exang</th><th scope=col>oldpeak</th><th scope=col>slope</th><th scope=col>ca</th><th scope=col>thal</th></tr>\n",
       "\t<tr><th scope=col>&lt;dbl&gt;</th><th scope=col>&lt;dbl&gt;</th><th scope=col>&lt;dbl&gt;</th><th scope=col>&lt;dbl&gt;</th><th scope=col>&lt;dbl&gt;</th><th scope=col>&lt;dbl&gt;</th><th scope=col>&lt;dbl&gt;</th><th scope=col>&lt;dbl&gt;</th><th scope=col>&lt;dbl&gt;</th><th scope=col>&lt;dbl&gt;</th><th scope=col>&lt;dbl&gt;</th><th scope=col>&lt;dbl&gt;</th></tr>\n",
       "</thead>\n",
       "<tbody>\n",
       "\t<tr><td>54.3964</td><td>3.175676</td><td>132.009</td><td>244.8018</td><td>0.1576577</td><td>0.981982</td><td>149.5856</td><td>0.3423423</td><td>1.020721</td><td>1.59009</td><td>0.6801802</td><td>4.842342</td></tr>\n",
       "</tbody>\n",
       "</table>\n"
      ],
      "text/latex": [
       "A tibble: 1 × 12\n",
       "\\begin{tabular}{llllllllllll}\n",
       " age & cp & trestbps & chol & fbs & restecg & thalach & exang & oldpeak & slope & ca & thal\\\\\n",
       " <dbl> & <dbl> & <dbl> & <dbl> & <dbl> & <dbl> & <dbl> & <dbl> & <dbl> & <dbl> & <dbl> & <dbl>\\\\\n",
       "\\hline\n",
       "\t 54.3964 & 3.175676 & 132.009 & 244.8018 & 0.1576577 & 0.981982 & 149.5856 & 0.3423423 & 1.020721 & 1.59009 & 0.6801802 & 4.842342\\\\\n",
       "\\end{tabular}\n"
      ],
      "text/markdown": [
       "\n",
       "A tibble: 1 × 12\n",
       "\n",
       "| age &lt;dbl&gt; | cp &lt;dbl&gt; | trestbps &lt;dbl&gt; | chol &lt;dbl&gt; | fbs &lt;dbl&gt; | restecg &lt;dbl&gt; | thalach &lt;dbl&gt; | exang &lt;dbl&gt; | oldpeak &lt;dbl&gt; | slope &lt;dbl&gt; | ca &lt;dbl&gt; | thal &lt;dbl&gt; |\n",
       "|---|---|---|---|---|---|---|---|---|---|---|---|\n",
       "| 54.3964 | 3.175676 | 132.009 | 244.8018 | 0.1576577 | 0.981982 | 149.5856 | 0.3423423 | 1.020721 | 1.59009 | 0.6801802 | 4.842342 |\n",
       "\n"
      ],
      "text/plain": [
       "  age     cp       trestbps chol     fbs       restecg  thalach  exang    \n",
       "1 54.3964 3.175676 132.009  244.8018 0.1576577 0.981982 149.5856 0.3423423\n",
       "  oldpeak  slope   ca        thal    \n",
       "1 1.020721 1.59009 0.6801802 4.842342"
      ]
     },
     "metadata": {},
     "output_type": "display_data"
    },
    {
     "data": {
      "text/html": [
       "<table class=\"dataframe\">\n",
       "<caption>A tibble: 2 × 2</caption>\n",
       "<thead>\n",
       "\t<tr><th scope=col>num</th><th scope=col>count</th></tr>\n",
       "\t<tr><th scope=col>&lt;fct&gt;</th><th scope=col>&lt;int&gt;</th></tr>\n",
       "</thead>\n",
       "<tbody>\n",
       "\t<tr><td>0</td><td>120</td></tr>\n",
       "\t<tr><td>1</td><td>102</td></tr>\n",
       "</tbody>\n",
       "</table>\n"
      ],
      "text/latex": [
       "A tibble: 2 × 2\n",
       "\\begin{tabular}{ll}\n",
       " num & count\\\\\n",
       " <fct> & <int>\\\\\n",
       "\\hline\n",
       "\t 0 & 120\\\\\n",
       "\t 1 & 102\\\\\n",
       "\\end{tabular}\n"
      ],
      "text/markdown": [
       "\n",
       "A tibble: 2 × 2\n",
       "\n",
       "| num &lt;fct&gt; | count &lt;int&gt; |\n",
       "|---|---|\n",
       "| 0 | 120 |\n",
       "| 1 | 102 |\n",
       "\n"
      ],
      "text/plain": [
       "  num count\n",
       "1 0   120  \n",
       "2 1   102  "
      ]
     },
     "metadata": {},
     "output_type": "display_data"
    },
    {
     "data": {
      "text/html": [
       "<table class=\"dataframe\">\n",
       "<caption>A tibble: 2 × 2</caption>\n",
       "<thead>\n",
       "\t<tr><th scope=col>sex</th><th scope=col>count</th></tr>\n",
       "\t<tr><th scope=col>&lt;fct&gt;</th><th scope=col>&lt;int&gt;</th></tr>\n",
       "</thead>\n",
       "<tbody>\n",
       "\t<tr><td>female</td><td> 66</td></tr>\n",
       "\t<tr><td>male  </td><td>156</td></tr>\n",
       "</tbody>\n",
       "</table>\n"
      ],
      "text/latex": [
       "A tibble: 2 × 2\n",
       "\\begin{tabular}{ll}\n",
       " sex & count\\\\\n",
       " <fct> & <int>\\\\\n",
       "\\hline\n",
       "\t female &  66\\\\\n",
       "\t male   & 156\\\\\n",
       "\\end{tabular}\n"
      ],
      "text/markdown": [
       "\n",
       "A tibble: 2 × 2\n",
       "\n",
       "| sex &lt;fct&gt; | count &lt;int&gt; |\n",
       "|---|---|\n",
       "| female |  66 |\n",
       "| male   | 156 |\n",
       "\n"
      ],
      "text/plain": [
       "  sex    count\n",
       "1 female  66  \n",
       "2 male   156  "
      ]
     },
     "metadata": {},
     "output_type": "display_data"
    }
   ],
   "source": [
    "# Summary Statistics\n",
    "heart_mean <- heart_training |>\n",
    "    select(-sex, -num) |>\n",
    "    map_df(mean)\n",
    "\n",
    "heart_summary_diagnosed <- heart_training |>\n",
    "    group_by(num) |>\n",
    "    summarize(count = n())\n",
    "\n",
    "heart_summary_sex <- heart_training |>\n",
    "    group_by(sex) |>\n",
    "    summarize(count = n())\n",
    "\n",
    "heart_mean\n",
    "heart_summary_diagnosed\n",
    "heart_summary_sex"
   ]
  },
  {
   "cell_type": "code",
   "execution_count": 144,
   "id": "67bb6523-6a7e-49d4-b659-18e50b2c826a",
   "metadata": {
    "tags": []
   },
   "outputs": [],
   "source": [
    "# Add a visualization with training data here; \"compares the distributions of each of the predictor variables you plan to use in your analysis\"\n",
    "\n",
    "# age_histogram <- heart_training |>\n",
    "#     ggplot(aes(x=age, fill=num)) +\n",
    "#     geom_histogram(stat=\"count\")\n",
    "# age_histogram\n",
    "\n",
    "# age_chol <- heart_training |>\n",
    "#     ggplot(aes(x=age, y=chol, color=num)) +\n",
    "#     geom_line()\n",
    "# age_chol\n",
    "\n",
    "# age_plot <- heart_training |>\n",
    "#     ggplot(aes(x=age, y=thalach, fill=num)) +\n",
    "#     geom_bar(stat=\"identity\")\n",
    "# age_plot\n",
    "\n",
    "# age_plot <- heart_training |>\n",
    "#     ggplot(aes(x=num, fill=sex)) +\n",
    "#     geom_bar(stat=\"count\")\n",
    "# age_plot"
   ]
  },
  {
   "cell_type": "markdown",
   "id": "38c6801a-b0be-4acc-9599-42d294517ab6",
   "metadata": {},
   "source": [
    "## Methods\n",
    "\n",
    "Data analysis & variables/columns: is this a useful variable for prediction?\n",
    "\n",
    "Filter by:\n",
    "- age: age\n",
    "- sex: gender defined with 0 (Female) and 1 (Male)\n",
    "- thalach: maximum heart rate achieved\n",
    "- chol: serum cholesterol (mg/dl)\n",
    "\n",
    "Predictors:\n",
    "- Cp: types of chest pain\n",
    "- trestbps: resting blood pressure in mmHg\n",
    "- fbs: fasting blood sugar > 120 mg/dl (1 = True, 0 = False)\n",
    "- restecg: resting electrocardiographic results\n",
    "- exang: whether exercise induced angina (1 = True, 0 = False)\n",
    "- oldpeak: ST depression induced by exercise, relative to rest\n",
    "- slope: the slope of the peak exercise ST segment (1 = upslope, 2 = flat, 3 = downslope)\n",
    "- ca: number of major vessels (0-3) colored by flourosopy\n",
    "- thal: (3 = normal, 6 = fixed defect, 7 = reversable defect)\n",
    "\n",
    "To visualise relationships in our data, we will generate scatter plots of different numerical (non-factor) variables against each other. This helped us identify the best predictors to use, which ended up aligning with our predictions and expectations. We will be able to create three plots that compare each factor to another (Age vs. sex, Age vs. Chol, Age and Thalach and Sex vs. Cho).\n",
    "\n",
    "\n",
    "While we explore the data, we would use scatter plots and histograms to investigate the relationships between different numerical variables against each other. Firstly, the plot of age and sex sheds light on the potential age disparities among genders, denoted as 0 for females and 1 for males. While looking at serum vs cholesterol(mg/ml) it offers potential correlations between age and lipid metabolism. Meanwhile, the depiction of Thalach allows us to discern any age related patterns in the cardiovascular performance. Exploring the association between sec and serum cholesterol to identify gender specific distinctions in cholesterol levels. \n",
    "\n",
    "We will predict num from (insert variables here)\n",
    "num = 0 means that the patient does not have heart disease\n",
    "num = 1 means patient has heart disease"
   ]
  },
  {
   "cell_type": "markdown",
   "id": "7d006275-9e5f-44c7-bd48-ce850824a4e6",
   "metadata": {},
   "source": [
    "## Expected outcomes and significance:\n",
    "\n",
    "What do you expect to find? <br>\n",
    "Although we will be filtering our dataset with respect to multiple variables, we expect [Resting Electrocardiographic](\"https://www.ncbi.nlm.nih.gov/books/NBK367910/#.\") (restecg), Exercise Induced Angina (exang) and ST Depression induced by exercise (oldpeak) to be some of the most likely indicators of heart disease.\n",
    "\n",
    "What impact could such findings have? <br>\n",
    "These findings can help medical professionals identify patients who are potentially at risk of heart disease and treat them accordingly. Furthermore, by identifying the relationship between age, sex and risk factors (maximum heart rate achieved and serum cholesterol [mg/dl]) medical professionals can consider the appropriate predictors when running tests. This will help in accurate identification and swift action for when a patient is suspected of having an underlying heart disease. Moreover, understanding the predictors' impact varies by age, sex, and risk factors can potentially debunk some myths associated with heart diseases. For example, it can address concerns about heart disease’s prevalence in men and if it is a matter of worry for the young.\n",
    "\n",
    "\n",
    "What future questions could this lead to? <br>\n",
    "Such findings could lead to questions being asked about the relationship between the aforementioned predictors, as well as those that our study is not considering, and the specific demographics of people. This is a critical question to ask as different demographics lead distinct lifestyles. For example, the diet of someone in Asia differs significantly from the diet of someone in North America. After all, there is a possibility that diet could be a significant predictor of heart disease. What specific age group show the hig\n"
   ]
  },
  {
   "cell_type": "code",
   "execution_count": null,
   "id": "192e08bc-68db-46fb-a9db-48fad17d77ca",
   "metadata": {},
   "outputs": [],
   "source": []
  }
 ],
 "metadata": {
  "kernelspec": {
   "display_name": "R",
   "language": "R",
   "name": "ir"
  },
  "language_info": {
   "codemirror_mode": "r",
   "file_extension": ".r",
   "mimetype": "text/x-r-source",
   "name": "R",
   "pygments_lexer": "r",
   "version": "4.2.2"
  }
 },
 "nbformat": 4,
 "nbformat_minor": 5
}
