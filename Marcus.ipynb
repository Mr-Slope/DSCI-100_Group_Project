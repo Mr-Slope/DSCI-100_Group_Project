{
 "cells": [
  {
   "cell_type": "code",
   "execution_count": 1,
   "id": "cae85d16-4a8b-4c22-a890-7adf42d22a62",
   "metadata": {
    "tags": []
   },
   "outputs": [
    {
     "name": "stderr",
     "output_type": "stream",
     "text": [
      "── \u001b[1mAttaching packages\u001b[22m ─────────────────────────────────────── tidyverse 1.3.2 ──\n",
      "\u001b[32m✔\u001b[39m \u001b[34mggplot2\u001b[39m 3.4.2     \u001b[32m✔\u001b[39m \u001b[34mpurrr  \u001b[39m 1.0.1\n",
      "\u001b[32m✔\u001b[39m \u001b[34mtibble \u001b[39m 3.2.1     \u001b[32m✔\u001b[39m \u001b[34mdplyr  \u001b[39m 1.1.1\n",
      "\u001b[32m✔\u001b[39m \u001b[34mtidyr  \u001b[39m 1.3.0     \u001b[32m✔\u001b[39m \u001b[34mstringr\u001b[39m 1.5.0\n",
      "\u001b[32m✔\u001b[39m \u001b[34mreadr  \u001b[39m 2.1.3     \u001b[32m✔\u001b[39m \u001b[34mforcats\u001b[39m 0.5.2\n",
      "── \u001b[1mConflicts\u001b[22m ────────────────────────────────────────── tidyverse_conflicts() ──\n",
      "\u001b[31m✖\u001b[39m \u001b[34mdplyr\u001b[39m::\u001b[32mfilter()\u001b[39m masks \u001b[34mstats\u001b[39m::filter()\n",
      "\u001b[31m✖\u001b[39m \u001b[34mdplyr\u001b[39m::\u001b[32mlag()\u001b[39m    masks \u001b[34mstats\u001b[39m::lag()\n",
      "── \u001b[1mAttaching packages\u001b[22m ────────────────────────────────────── tidymodels 1.0.0 ──\n",
      "\n",
      "\u001b[32m✔\u001b[39m \u001b[34mbroom       \u001b[39m 1.0.2     \u001b[32m✔\u001b[39m \u001b[34mrsample     \u001b[39m 1.1.1\n",
      "\u001b[32m✔\u001b[39m \u001b[34mdials       \u001b[39m 1.1.0     \u001b[32m✔\u001b[39m \u001b[34mtune        \u001b[39m 1.0.1\n",
      "\u001b[32m✔\u001b[39m \u001b[34minfer       \u001b[39m 1.0.4     \u001b[32m✔\u001b[39m \u001b[34mworkflows   \u001b[39m 1.1.2\n",
      "\u001b[32m✔\u001b[39m \u001b[34mmodeldata   \u001b[39m 1.0.1     \u001b[32m✔\u001b[39m \u001b[34mworkflowsets\u001b[39m 1.0.0\n",
      "\u001b[32m✔\u001b[39m \u001b[34mparsnip     \u001b[39m 1.0.3     \u001b[32m✔\u001b[39m \u001b[34myardstick   \u001b[39m 1.1.0\n",
      "\u001b[32m✔\u001b[39m \u001b[34mrecipes     \u001b[39m 1.0.4     \n",
      "\n",
      "── \u001b[1mConflicts\u001b[22m ───────────────────────────────────────── tidymodels_conflicts() ──\n",
      "\u001b[31m✖\u001b[39m \u001b[34mscales\u001b[39m::\u001b[32mdiscard()\u001b[39m masks \u001b[34mpurrr\u001b[39m::discard()\n",
      "\u001b[31m✖\u001b[39m \u001b[34mdplyr\u001b[39m::\u001b[32mfilter()\u001b[39m   masks \u001b[34mstats\u001b[39m::filter()\n",
      "\u001b[31m✖\u001b[39m \u001b[34mrecipes\u001b[39m::\u001b[32mfixed()\u001b[39m  masks \u001b[34mstringr\u001b[39m::fixed()\n",
      "\u001b[31m✖\u001b[39m \u001b[34mdplyr\u001b[39m::\u001b[32mlag()\u001b[39m      masks \u001b[34mstats\u001b[39m::lag()\n",
      "\u001b[31m✖\u001b[39m \u001b[34myardstick\u001b[39m::\u001b[32mspec()\u001b[39m masks \u001b[34mreadr\u001b[39m::spec()\n",
      "\u001b[31m✖\u001b[39m \u001b[34mrecipes\u001b[39m::\u001b[32mstep()\u001b[39m   masks \u001b[34mstats\u001b[39m::step()\n",
      "\u001b[34m•\u001b[39m Use suppressPackageStartupMessages() to eliminate package startup messages\n",
      "\n",
      "Updating HTML index of packages in '.Library'\n",
      "\n",
      "Making 'packages.html' ...\n",
      " done\n",
      "\n",
      "Updating HTML index of packages in '.Library'\n",
      "\n",
      "Making 'packages.html' ...\n",
      " done\n",
      "\n"
     ]
    }
   ],
   "source": [
    "# Libraries/Packages to load\n",
    "library(tidyverse)\n",
    "library(tidymodels)\n",
    "library(RColorBrewer)\n",
    "#install.packages(\"themis\")\n",
    "#install.packages(\"kknn\")\n",
    "library(themis)"
   ]
  },
  {
   "cell_type": "code",
   "execution_count": 2,
   "id": "1c1d3b53-ee01-46d9-9715-5b82b2c33806",
   "metadata": {
    "tags": []
   },
   "outputs": [
    {
     "name": "stderr",
     "output_type": "stream",
     "text": [
      "\u001b[1mRows: \u001b[22m\u001b[34m303\u001b[39m \u001b[1mColumns: \u001b[22m\u001b[34m14\u001b[39m\n",
      "\u001b[36m──\u001b[39m \u001b[1mColumn specification\u001b[22m \u001b[36m────────────────────────────────────────────────────────\u001b[39m\n",
      "\u001b[1mDelimiter:\u001b[22m \",\"\n",
      "\u001b[31mchr\u001b[39m  (2): ca, thal\n",
      "\u001b[32mdbl\u001b[39m (12): age, sex, cp, trestbps, chol, fbs, restecg, thalach, exang, oldpea...\n",
      "\n",
      "\u001b[36mℹ\u001b[39m Use `spec()` to retrieve the full column specification for this data.\n",
      "\u001b[36mℹ\u001b[39m Specify the column types or set `show_col_types = FALSE` to quiet this message.\n"
     ]
    },
    {
     "data": {
      "text/html": [
       "<table class=\"dataframe\">\n",
       "<caption>A tibble: 6 × 14</caption>\n",
       "<thead>\n",
       "\t<tr><th scope=col>age</th><th scope=col>sex</th><th scope=col>cp</th><th scope=col>trestbps</th><th scope=col>chol</th><th scope=col>fbs</th><th scope=col>restecg</th><th scope=col>thalach</th><th scope=col>exang</th><th scope=col>oldpeak</th><th scope=col>slope</th><th scope=col>ca</th><th scope=col>thal</th><th scope=col>num</th></tr>\n",
       "\t<tr><th scope=col>&lt;dbl&gt;</th><th scope=col>&lt;dbl&gt;</th><th scope=col>&lt;dbl&gt;</th><th scope=col>&lt;dbl&gt;</th><th scope=col>&lt;dbl&gt;</th><th scope=col>&lt;dbl&gt;</th><th scope=col>&lt;dbl&gt;</th><th scope=col>&lt;dbl&gt;</th><th scope=col>&lt;dbl&gt;</th><th scope=col>&lt;dbl&gt;</th><th scope=col>&lt;dbl&gt;</th><th scope=col>&lt;chr&gt;</th><th scope=col>&lt;chr&gt;</th><th scope=col>&lt;dbl&gt;</th></tr>\n",
       "</thead>\n",
       "<tbody>\n",
       "\t<tr><td>63</td><td>1</td><td>1</td><td>145</td><td>233</td><td>1</td><td>2</td><td>150</td><td>0</td><td>2.3</td><td>3</td><td>0.0</td><td>6.0</td><td>0</td></tr>\n",
       "\t<tr><td>67</td><td>1</td><td>4</td><td>160</td><td>286</td><td>0</td><td>2</td><td>108</td><td>1</td><td>1.5</td><td>2</td><td>3.0</td><td>3.0</td><td>2</td></tr>\n",
       "\t<tr><td>67</td><td>1</td><td>4</td><td>120</td><td>229</td><td>0</td><td>2</td><td>129</td><td>1</td><td>2.6</td><td>2</td><td>2.0</td><td>7.0</td><td>1</td></tr>\n",
       "\t<tr><td>37</td><td>1</td><td>3</td><td>130</td><td>250</td><td>0</td><td>0</td><td>187</td><td>0</td><td>3.5</td><td>3</td><td>0.0</td><td>3.0</td><td>0</td></tr>\n",
       "\t<tr><td>41</td><td>0</td><td>2</td><td>130</td><td>204</td><td>0</td><td>2</td><td>172</td><td>0</td><td>1.4</td><td>1</td><td>0.0</td><td>3.0</td><td>0</td></tr>\n",
       "\t<tr><td>56</td><td>1</td><td>2</td><td>120</td><td>236</td><td>0</td><td>0</td><td>178</td><td>0</td><td>0.8</td><td>1</td><td>0.0</td><td>3.0</td><td>0</td></tr>\n",
       "</tbody>\n",
       "</table>\n"
      ],
      "text/latex": [
       "A tibble: 6 × 14\n",
       "\\begin{tabular}{llllllllllllll}\n",
       " age & sex & cp & trestbps & chol & fbs & restecg & thalach & exang & oldpeak & slope & ca & thal & num\\\\\n",
       " <dbl> & <dbl> & <dbl> & <dbl> & <dbl> & <dbl> & <dbl> & <dbl> & <dbl> & <dbl> & <dbl> & <chr> & <chr> & <dbl>\\\\\n",
       "\\hline\n",
       "\t 63 & 1 & 1 & 145 & 233 & 1 & 2 & 150 & 0 & 2.3 & 3 & 0.0 & 6.0 & 0\\\\\n",
       "\t 67 & 1 & 4 & 160 & 286 & 0 & 2 & 108 & 1 & 1.5 & 2 & 3.0 & 3.0 & 2\\\\\n",
       "\t 67 & 1 & 4 & 120 & 229 & 0 & 2 & 129 & 1 & 2.6 & 2 & 2.0 & 7.0 & 1\\\\\n",
       "\t 37 & 1 & 3 & 130 & 250 & 0 & 0 & 187 & 0 & 3.5 & 3 & 0.0 & 3.0 & 0\\\\\n",
       "\t 41 & 0 & 2 & 130 & 204 & 0 & 2 & 172 & 0 & 1.4 & 1 & 0.0 & 3.0 & 0\\\\\n",
       "\t 56 & 1 & 2 & 120 & 236 & 0 & 0 & 178 & 0 & 0.8 & 1 & 0.0 & 3.0 & 0\\\\\n",
       "\\end{tabular}\n"
      ],
      "text/markdown": [
       "\n",
       "A tibble: 6 × 14\n",
       "\n",
       "| age &lt;dbl&gt; | sex &lt;dbl&gt; | cp &lt;dbl&gt; | trestbps &lt;dbl&gt; | chol &lt;dbl&gt; | fbs &lt;dbl&gt; | restecg &lt;dbl&gt; | thalach &lt;dbl&gt; | exang &lt;dbl&gt; | oldpeak &lt;dbl&gt; | slope &lt;dbl&gt; | ca &lt;chr&gt; | thal &lt;chr&gt; | num &lt;dbl&gt; |\n",
       "|---|---|---|---|---|---|---|---|---|---|---|---|---|---|\n",
       "| 63 | 1 | 1 | 145 | 233 | 1 | 2 | 150 | 0 | 2.3 | 3 | 0.0 | 6.0 | 0 |\n",
       "| 67 | 1 | 4 | 160 | 286 | 0 | 2 | 108 | 1 | 1.5 | 2 | 3.0 | 3.0 | 2 |\n",
       "| 67 | 1 | 4 | 120 | 229 | 0 | 2 | 129 | 1 | 2.6 | 2 | 2.0 | 7.0 | 1 |\n",
       "| 37 | 1 | 3 | 130 | 250 | 0 | 0 | 187 | 0 | 3.5 | 3 | 0.0 | 3.0 | 0 |\n",
       "| 41 | 0 | 2 | 130 | 204 | 0 | 2 | 172 | 0 | 1.4 | 1 | 0.0 | 3.0 | 0 |\n",
       "| 56 | 1 | 2 | 120 | 236 | 0 | 0 | 178 | 0 | 0.8 | 1 | 0.0 | 3.0 | 0 |\n",
       "\n"
      ],
      "text/plain": [
       "  age sex cp trestbps chol fbs restecg thalach exang oldpeak slope ca  thal num\n",
       "1 63  1   1  145      233  1   2       150     0     2.3     3     0.0 6.0  0  \n",
       "2 67  1   4  160      286  0   2       108     1     1.5     2     3.0 3.0  2  \n",
       "3 67  1   4  120      229  0   2       129     1     2.6     2     2.0 7.0  1  \n",
       "4 37  1   3  130      250  0   0       187     0     3.5     3     0.0 3.0  0  \n",
       "5 41  0   2  130      204  0   2       172     0     1.4     1     0.0 3.0  0  \n",
       "6 56  1   2  120      236  0   0       178     0     0.8     1     0.0 3.0  0  "
      ]
     },
     "metadata": {},
     "output_type": "display_data"
    }
   ],
   "source": [
    "# Reading the data from the web, adding column names\n",
    "heart_data <- read_csv(\"https://raw.githubusercontent.com/Mr-Slope/DSCI-100_Group_Project/main/processed.cleveland.data\",\n",
    "                       col_names=c(\"age\", \"sex\", \"cp\", \"trestbps\", \"chol\", \"fbs\", \"restecg\", \n",
    "                                   \"thalach\", \"exang\", \"oldpeak\", \"slope\", \"ca\", \"thal\", \"num\"))\n",
    "# Preview the data set\n",
    "head(heart_data)"
   ]
  },
  {
   "cell_type": "code",
   "execution_count": 3,
   "id": "25a4c392-6cc0-4e3e-9c11-dc2ef1e54a69",
   "metadata": {
    "tags": []
   },
   "outputs": [],
   "source": [
    "# Cleaning & Wrangling\n",
    "heart_tidy <- heart_data |>\n",
    "    filter(ca != \"?\", thal != \"?\") |>\n",
    "    mutate(across(c(ca, thal), as.numeric)) |>\n",
    "    mutate(across(c(cp, fbs, restecg, exang, slope, ca, thal, num), as_factor)) |>\n",
    "    mutate(cp = fct_recode(cp, \"angina\" = \"1\", \"abnormal\" = \"2\", \"nonang\" = \"3\", \"asymp\" = \"4\")) |>\n",
    "    mutate(fbs = fct_recode(fbs, \"high\" = \"1\", \"norm\" = \"0\")) |>\n",
    "    mutate(restecg = fct_recode(restecg, \"norm\" = \"0\", \"abnorm\" = \"1\", \"damage\" = \"2\")) |>\n",
    "    mutate(exang = fct_recode(exang, \"TRUE\" = \"1\", \"FALSE\" = \"0\")) |>\n",
    "    mutate(slope = fct_recode(slope, \"up\" = \"1\", \"flat\" = \"2\", \"down\" = \"3\")) |>\n",
    "    mutate(thal = fct_recode(thal, \"norm\" = \"3\", \"fixed\" = \"6\", \"reversible\" = \"7\")) |>\n",
    "    mutate(num = fct_recode(num, \"healthy\" = \"0\", \"sick\" = \"1\", \"sick\" = \"2\", \"sick\" = \"3\", \"sick\" = \"4\")) |> # in the data files, 1,2,3,4 are all sick\n",
    "    tibble() "
   ]
  },
  {
   "cell_type": "code",
   "execution_count": 23,
   "id": "71974a47-25b6-4083-804c-569e4b482460",
   "metadata": {
    "tags": []
   },
   "outputs": [],
   "source": [
    "# KNN Classification model with predictions for sex, sex + MH, age + sex + mh\n",
    "set.seed(29)\n",
    "\n",
    "# Splitting the data (separate this)\n",
    "heart_split <- initial_split(heart_tidy, prop = 0.75, strata = num)\n",
    "heart_training <- training(heart_split)\n",
    "heart_testing <- testing(heart_split)\n",
    "\n",
    "# model \n",
    "heart_tune <- nearest_neighbor(weight=\"rectangular\", neighbors=tune()) |>\n",
    "    set_engine(\"kknn\") |>\n",
    "    set_mode(\"classification\")\n",
    "\n",
    "heart_vfold <- vfold_cv(heart_training, v = 5, strata = num)\n",
    "gridvals <- tibble(neighbors = seq(1,100,5))\n",
    "\n",
    "heart_recipe_s <- recipe(num ~ sex, data = heart_training) |>\n",
    "    step_center(all_predictors()) |>\n",
    "    step_scale(all_predictors())\n",
    "\n",
    "heart_tune_s <- workflow() |>\n",
    "    add_recipe(heart_recipe_s) |>\n",
    "    add_model(heart_tune) |>\n",
    "    tune_grid(resamples = heart_vfold, grid = gridvals) |>\n",
    "    collect_metrics()\n",
    "\n",
    "heart_recipe_st <- recipe(num ~ sex + thalach, data = heart_training) |>\n",
    "    step_center(all_predictors()) |>\n",
    "    step_scale(all_predictors())\n",
    "\n",
    "heart_tune_st <- workflow() |>\n",
    "    add_recipe(heart_recipe_st) |>\n",
    "    add_model(heart_tune) |>\n",
    "    tune_grid(resamples = heart_vfold, grid = gridvals) |>\n",
    "    collect_metrics()\n",
    "\n",
    "heart_recipe_ast <- recipe(num ~ age + sex + thalach, data = heart_training) |>\n",
    "    step_center(all_predictors()) |>\n",
    "    step_scale(all_predictors())\n",
    "\n",
    "heart_tune_ast <- workflow() |>\n",
    "    add_recipe(heart_recipe_ast) |>\n",
    "    add_model(heart_tune) |>\n",
    "    tune_grid(resamples = heart_vfold, grid = gridvals) |>\n",
    "    collect_metrics()"
   ]
  },
  {
   "cell_type": "code",
   "execution_count": 24,
   "id": "a9bd31f6-1496-4456-9851-744a889192a7",
   "metadata": {},
   "outputs": [
    {
     "data": {
      "text/html": [
       "<table class=\"dataframe\">\n",
       "<caption>A tibble: 1 × 3</caption>\n",
       "<thead>\n",
       "\t<tr><th scope=col>neighbors</th><th scope=col>mean</th><th scope=col>.metric</th></tr>\n",
       "\t<tr><th scope=col>&lt;int&gt;</th><th scope=col>&lt;dbl&gt;</th><th scope=col>&lt;chr&gt;</th></tr>\n",
       "</thead>\n",
       "<tbody>\n",
       "\t<tr><td>5</td><td>0.5406061</td><td>accuracy</td></tr>\n",
       "</tbody>\n",
       "</table>\n"
      ],
      "text/latex": [
       "A tibble: 1 × 3\n",
       "\\begin{tabular}{lll}\n",
       " neighbors & mean & .metric\\\\\n",
       " <int> & <dbl> & <chr>\\\\\n",
       "\\hline\n",
       "\t 5 & 0.5406061 & accuracy\\\\\n",
       "\\end{tabular}\n"
      ],
      "text/markdown": [
       "\n",
       "A tibble: 1 × 3\n",
       "\n",
       "| neighbors &lt;int&gt; | mean &lt;dbl&gt; | .metric &lt;chr&gt; |\n",
       "|---|---|---|\n",
       "| 5 | 0.5406061 | accuracy |\n",
       "\n"
      ],
      "text/plain": [
       "  neighbors mean      .metric \n",
       "1 5         0.5406061 accuracy"
      ]
     },
     "metadata": {},
     "output_type": "display_data"
    },
    {
     "data": {
      "text/html": [
       "<table class=\"dataframe\">\n",
       "<caption>A tibble: 1 × 3</caption>\n",
       "<thead>\n",
       "\t<tr><th scope=col>neighbors</th><th scope=col>mean</th><th scope=col>.metric</th></tr>\n",
       "\t<tr><th scope=col>&lt;int&gt;</th><th scope=col>&lt;dbl&gt;</th><th scope=col>&lt;chr&gt;</th></tr>\n",
       "</thead>\n",
       "<tbody>\n",
       "\t<tr><td>35</td><td>0.7068687</td><td>accuracy</td></tr>\n",
       "</tbody>\n",
       "</table>\n"
      ],
      "text/latex": [
       "A tibble: 1 × 3\n",
       "\\begin{tabular}{lll}\n",
       " neighbors & mean & .metric\\\\\n",
       " <int> & <dbl> & <chr>\\\\\n",
       "\\hline\n",
       "\t 35 & 0.7068687 & accuracy\\\\\n",
       "\\end{tabular}\n"
      ],
      "text/markdown": [
       "\n",
       "A tibble: 1 × 3\n",
       "\n",
       "| neighbors &lt;int&gt; | mean &lt;dbl&gt; | .metric &lt;chr&gt; |\n",
       "|---|---|---|\n",
       "| 35 | 0.7068687 | accuracy |\n",
       "\n"
      ],
      "text/plain": [
       "  neighbors mean      .metric \n",
       "1 35        0.7068687 accuracy"
      ]
     },
     "metadata": {},
     "output_type": "display_data"
    },
    {
     "data": {
      "text/html": [
       "<table class=\"dataframe\">\n",
       "<caption>A tibble: 2 × 3</caption>\n",
       "<thead>\n",
       "\t<tr><th scope=col>neighbors</th><th scope=col>mean</th><th scope=col>.metric</th></tr>\n",
       "\t<tr><th scope=col>&lt;int&gt;</th><th scope=col>&lt;dbl&gt;</th><th scope=col>&lt;chr&gt;</th></tr>\n",
       "</thead>\n",
       "<tbody>\n",
       "\t<tr><td>13</td><td>0.7433333</td><td>accuracy</td></tr>\n",
       "\t<tr><td>14</td><td>0.7433333</td><td>accuracy</td></tr>\n",
       "</tbody>\n",
       "</table>\n"
      ],
      "text/latex": [
       "A tibble: 2 × 3\n",
       "\\begin{tabular}{lll}\n",
       " neighbors & mean & .metric\\\\\n",
       " <int> & <dbl> & <chr>\\\\\n",
       "\\hline\n",
       "\t 13 & 0.7433333 & accuracy\\\\\n",
       "\t 14 & 0.7433333 & accuracy\\\\\n",
       "\\end{tabular}\n"
      ],
      "text/markdown": [
       "\n",
       "A tibble: 2 × 3\n",
       "\n",
       "| neighbors &lt;int&gt; | mean &lt;dbl&gt; | .metric &lt;chr&gt; |\n",
       "|---|---|---|\n",
       "| 13 | 0.7433333 | accuracy |\n",
       "| 14 | 0.7433333 | accuracy |\n",
       "\n"
      ],
      "text/plain": [
       "  neighbors mean      .metric \n",
       "1 13        0.7433333 accuracy\n",
       "2 14        0.7433333 accuracy"
      ]
     },
     "metadata": {},
     "output_type": "display_data"
    }
   ],
   "source": [
    "heart_fit_s_acc <- heart_fit_s |>\n",
    "    select(neighbors, mean, .metric) |>\n",
    "    filter(.metric == \"accuracy\") |>\n",
    "    slice(5)\n",
    "heart_fit_s_acc\n",
    "\n",
    "heart_fit_st_acc <- heart_fit_st |>\n",
    "    select(neighbors, mean, .metric) |>\n",
    "    filter(.metric == \"accuracy\") |>\n",
    "    slice_max(order_by = mean, n = 1)\n",
    "heart_fit_st_acc\n",
    "\n",
    "heart_fit_ast_acc <- heart_fit_ast |>\n",
    "    select(neighbors, mean, .metric) |>\n",
    "    filter(.metric == \"accuracy\") |>\n",
    "    slice_max(order_by = mean, n = 1)\n",
    "    \n",
    "heart_fit_ast_acc"
   ]
  },
  {
   "cell_type": "code",
   "execution_count": 35,
   "id": "6216a1d6-fefe-4637-a454-5c4d0649b289",
   "metadata": {
    "tags": []
   },
   "outputs": [
    {
     "data": {
      "text/html": [
       "<table class=\"dataframe\">\n",
       "<caption>A tibble: 1 × 3</caption>\n",
       "<thead>\n",
       "\t<tr><th scope=col>.metric</th><th scope=col>.estimator</th><th scope=col>.estimate</th></tr>\n",
       "\t<tr><th scope=col>&lt;chr&gt;</th><th scope=col>&lt;chr&gt;</th><th scope=col>&lt;dbl&gt;</th></tr>\n",
       "</thead>\n",
       "<tbody>\n",
       "\t<tr><td>accuracy</td><td>binary</td><td>0.5333333</td></tr>\n",
       "</tbody>\n",
       "</table>\n"
      ],
      "text/latex": [
       "A tibble: 1 × 3\n",
       "\\begin{tabular}{lll}\n",
       " .metric & .estimator & .estimate\\\\\n",
       " <chr> & <chr> & <dbl>\\\\\n",
       "\\hline\n",
       "\t accuracy & binary & 0.5333333\\\\\n",
       "\\end{tabular}\n"
      ],
      "text/markdown": [
       "\n",
       "A tibble: 1 × 3\n",
       "\n",
       "| .metric &lt;chr&gt; | .estimator &lt;chr&gt; | .estimate &lt;dbl&gt; |\n",
       "|---|---|---|\n",
       "| accuracy | binary | 0.5333333 |\n",
       "\n"
      ],
      "text/plain": [
       "  .metric  .estimator .estimate\n",
       "1 accuracy binary     0.5333333"
      ]
     },
     "metadata": {},
     "output_type": "display_data"
    },
    {
     "data": {
      "text/plain": [
       "          Truth\n",
       "Prediction healthy sick\n",
       "   healthy      40   35\n",
       "   sick          0    0"
      ]
     },
     "metadata": {},
     "output_type": "display_data"
    },
    {
     "data": {
      "text/html": [
       "<table class=\"dataframe\">\n",
       "<caption>A tibble: 1 × 3</caption>\n",
       "<thead>\n",
       "\t<tr><th scope=col>.metric</th><th scope=col>.estimator</th><th scope=col>.estimate</th></tr>\n",
       "\t<tr><th scope=col>&lt;chr&gt;</th><th scope=col>&lt;chr&gt;</th><th scope=col>&lt;dbl&gt;</th></tr>\n",
       "</thead>\n",
       "<tbody>\n",
       "\t<tr><td>accuracy</td><td>binary</td><td>0.7733333</td></tr>\n",
       "</tbody>\n",
       "</table>\n"
      ],
      "text/latex": [
       "A tibble: 1 × 3\n",
       "\\begin{tabular}{lll}\n",
       " .metric & .estimator & .estimate\\\\\n",
       " <chr> & <chr> & <dbl>\\\\\n",
       "\\hline\n",
       "\t accuracy & binary & 0.7733333\\\\\n",
       "\\end{tabular}\n"
      ],
      "text/markdown": [
       "\n",
       "A tibble: 1 × 3\n",
       "\n",
       "| .metric &lt;chr&gt; | .estimator &lt;chr&gt; | .estimate &lt;dbl&gt; |\n",
       "|---|---|---|\n",
       "| accuracy | binary | 0.7733333 |\n",
       "\n"
      ],
      "text/plain": [
       "  .metric  .estimator .estimate\n",
       "1 accuracy binary     0.7733333"
      ]
     },
     "metadata": {},
     "output_type": "display_data"
    },
    {
     "data": {
      "text/plain": [
       "          Truth\n",
       "Prediction healthy sick\n",
       "   healthy      35   12\n",
       "   sick          5   23"
      ]
     },
     "metadata": {},
     "output_type": "display_data"
    },
    {
     "data": {
      "text/html": [
       "<table class=\"dataframe\">\n",
       "<caption>A tibble: 1 × 3</caption>\n",
       "<thead>\n",
       "\t<tr><th scope=col>.metric</th><th scope=col>.estimator</th><th scope=col>.estimate</th></tr>\n",
       "\t<tr><th scope=col>&lt;chr&gt;</th><th scope=col>&lt;chr&gt;</th><th scope=col>&lt;dbl&gt;</th></tr>\n",
       "</thead>\n",
       "<tbody>\n",
       "\t<tr><td>accuracy</td><td>binary</td><td>0.72</td></tr>\n",
       "</tbody>\n",
       "</table>\n"
      ],
      "text/latex": [
       "A tibble: 1 × 3\n",
       "\\begin{tabular}{lll}\n",
       " .metric & .estimator & .estimate\\\\\n",
       " <chr> & <chr> & <dbl>\\\\\n",
       "\\hline\n",
       "\t accuracy & binary & 0.72\\\\\n",
       "\\end{tabular}\n"
      ],
      "text/markdown": [
       "\n",
       "A tibble: 1 × 3\n",
       "\n",
       "| .metric &lt;chr&gt; | .estimator &lt;chr&gt; | .estimate &lt;dbl&gt; |\n",
       "|---|---|---|\n",
       "| accuracy | binary | 0.72 |\n",
       "\n"
      ],
      "text/plain": [
       "  .metric  .estimator .estimate\n",
       "1 accuracy binary     0.72     "
      ]
     },
     "metadata": {},
     "output_type": "display_data"
    },
    {
     "data": {
      "text/plain": [
       "          Truth\n",
       "Prediction healthy sick\n",
       "   healthy      31   12\n",
       "   sick          9   23"
      ]
     },
     "metadata": {},
     "output_type": "display_data"
    }
   ],
   "source": [
    "heart_spec_s <- nearest_neighbor(weight=\"rectangular\", neighbors=5) |>\n",
    "    set_engine(\"kknn\") |>\n",
    "    set_mode(\"classification\")\n",
    "\n",
    "heart_spec_st <- nearest_neighbor(weight=\"rectangular\", neighbors=35) |>\n",
    "    set_engine(\"kknn\") |>\n",
    "    set_mode(\"classification\")\n",
    "\n",
    "heart_spec_ast <- nearest_neighbor(weight=\"rectangular\", neighbors=13) |>\n",
    "    set_engine(\"kknn\") |>\n",
    "    set_mode(\"classification\")\n",
    "\n",
    "heart_fit_s <- workflow() |>\n",
    "    add_recipe(heart_recipe_s) |>\n",
    "    add_model(heart_spec_s) |>\n",
    "    fit(heart_training) \n",
    "\n",
    "heart_pred_s <- heart_fit_s |>\n",
    "    predict(heart_testing) |>\n",
    "    bind_cols(heart_testing) \n",
    "heart_pred_s_metrics <- heart_pred_s |>\n",
    "    metrics(truth = num, estimate=.pred_class) |>\n",
    "    filter(.metric == \"accuracy\")\n",
    "heart_pred_s_metrics\n",
    "heart_pred_s_conf <- heart_pred_s |>\n",
    "    conf_mat(truth=num, estimate=.pred_class)\n",
    "heart_pred_s_conf\n",
    "\n",
    "heart_fit_st <- workflow() |>\n",
    "    add_recipe(heart_recipe_st) |>\n",
    "    add_model(heart_spec_st) |>\n",
    "    fit(heart_training) \n",
    "\n",
    "heart_pred_st <- heart_fit_st |>\n",
    "    predict(heart_testing) |>\n",
    "    bind_cols(heart_testing) \n",
    "heart_pred_st_metrics <- heart_pred_st |>\n",
    "    metrics(truth = num, estimate=.pred_class) |>\n",
    "    filter(.metric == \"accuracy\")\n",
    "heart_pred_st_metrics\n",
    "heart_pred_st_conf <- heart_pred_st |>\n",
    "    conf_mat(truth=num,estimate=.pred_class)\n",
    "heart_pred_st_conf\n",
    "\n",
    "heart_fit_ast <- workflow() |>\n",
    "    add_recipe(heart_recipe_ast) |>\n",
    "    add_model(heart_spec_ast) |>\n",
    "    fit(heart_training) \n",
    "\n",
    "heart_pred_ast <- heart_fit_ast |>\n",
    "    predict(heart_testing) |>\n",
    "    bind_cols(heart_testing) \n",
    "heart_pred_ast_metrics <- heart_pred_ast |>\n",
    "    metrics(truth = num, estimate=.pred_class) |>\n",
    "    filter(.metric == \"accuracy\")\n",
    "heart_pred_ast_metrics\n",
    "heart_pred_ast_conf <- heart_pred_ast |>\n",
    "    conf_mat(truth=num,estimate=.pred_class)\n",
    "heart_pred_ast_conf"
   ]
  },
  {
   "cell_type": "code",
   "execution_count": null,
   "id": "3c340411-bc29-4a82-9a0c-a356d05f2662",
   "metadata": {},
   "outputs": [],
   "source": []
  }
 ],
 "metadata": {
  "kernelspec": {
   "display_name": "R",
   "language": "R",
   "name": "ir"
  },
  "language_info": {
   "codemirror_mode": "r",
   "file_extension": ".r",
   "mimetype": "text/x-r-source",
   "name": "R",
   "pygments_lexer": "r",
   "version": "4.2.2"
  }
 },
 "nbformat": 4,
 "nbformat_minor": 5
}
