{
 "cells": [
  {
   "cell_type": "code",
   "execution_count": 15,
   "id": "cae85d16-4a8b-4c22-a890-7adf42d22a62",
   "metadata": {
    "tags": []
   },
   "outputs": [],
   "source": [
    "# Libraries/Packages to load\n",
    "library(tidyverse)\n",
    "library(tidymodels)\n",
    "library(RColorBrewer)\n",
    "#install.packages(\"themis\")\n",
    "#install.packages(\"kknn\")\n",
    "library(themis)"
   ]
  },
  {
   "cell_type": "code",
   "execution_count": 16,
   "id": "1c1d3b53-ee01-46d9-9715-5b82b2c33806",
   "metadata": {
    "tags": []
   },
   "outputs": [
    {
     "name": "stderr",
     "output_type": "stream",
     "text": [
      "\u001b[1mRows: \u001b[22m\u001b[34m303\u001b[39m \u001b[1mColumns: \u001b[22m\u001b[34m14\u001b[39m\n",
      "\u001b[36m──\u001b[39m \u001b[1mColumn specification\u001b[22m \u001b[36m────────────────────────────────────────────────────────\u001b[39m\n",
      "\u001b[1mDelimiter:\u001b[22m \",\"\n",
      "\u001b[31mchr\u001b[39m  (2): ca, thal\n",
      "\u001b[32mdbl\u001b[39m (12): age, sex, cp, trestbps, chol, fbs, restecg, thalach, exang, oldpea...\n",
      "\n",
      "\u001b[36mℹ\u001b[39m Use `spec()` to retrieve the full column specification for this data.\n",
      "\u001b[36mℹ\u001b[39m Specify the column types or set `show_col_types = FALSE` to quiet this message.\n"
     ]
    },
    {
     "data": {
      "text/html": [
       "<table class=\"dataframe\">\n",
       "<caption>A tibble: 6 × 14</caption>\n",
       "<thead>\n",
       "\t<tr><th scope=col>age</th><th scope=col>sex</th><th scope=col>cp</th><th scope=col>trestbps</th><th scope=col>chol</th><th scope=col>fbs</th><th scope=col>restecg</th><th scope=col>thalach</th><th scope=col>exang</th><th scope=col>oldpeak</th><th scope=col>slope</th><th scope=col>ca</th><th scope=col>thal</th><th scope=col>num</th></tr>\n",
       "\t<tr><th scope=col>&lt;dbl&gt;</th><th scope=col>&lt;dbl&gt;</th><th scope=col>&lt;dbl&gt;</th><th scope=col>&lt;dbl&gt;</th><th scope=col>&lt;dbl&gt;</th><th scope=col>&lt;dbl&gt;</th><th scope=col>&lt;dbl&gt;</th><th scope=col>&lt;dbl&gt;</th><th scope=col>&lt;dbl&gt;</th><th scope=col>&lt;dbl&gt;</th><th scope=col>&lt;dbl&gt;</th><th scope=col>&lt;chr&gt;</th><th scope=col>&lt;chr&gt;</th><th scope=col>&lt;dbl&gt;</th></tr>\n",
       "</thead>\n",
       "<tbody>\n",
       "\t<tr><td>63</td><td>1</td><td>1</td><td>145</td><td>233</td><td>1</td><td>2</td><td>150</td><td>0</td><td>2.3</td><td>3</td><td>0.0</td><td>6.0</td><td>0</td></tr>\n",
       "\t<tr><td>67</td><td>1</td><td>4</td><td>160</td><td>286</td><td>0</td><td>2</td><td>108</td><td>1</td><td>1.5</td><td>2</td><td>3.0</td><td>3.0</td><td>2</td></tr>\n",
       "\t<tr><td>67</td><td>1</td><td>4</td><td>120</td><td>229</td><td>0</td><td>2</td><td>129</td><td>1</td><td>2.6</td><td>2</td><td>2.0</td><td>7.0</td><td>1</td></tr>\n",
       "\t<tr><td>37</td><td>1</td><td>3</td><td>130</td><td>250</td><td>0</td><td>0</td><td>187</td><td>0</td><td>3.5</td><td>3</td><td>0.0</td><td>3.0</td><td>0</td></tr>\n",
       "\t<tr><td>41</td><td>0</td><td>2</td><td>130</td><td>204</td><td>0</td><td>2</td><td>172</td><td>0</td><td>1.4</td><td>1</td><td>0.0</td><td>3.0</td><td>0</td></tr>\n",
       "\t<tr><td>56</td><td>1</td><td>2</td><td>120</td><td>236</td><td>0</td><td>0</td><td>178</td><td>0</td><td>0.8</td><td>1</td><td>0.0</td><td>3.0</td><td>0</td></tr>\n",
       "</tbody>\n",
       "</table>\n"
      ],
      "text/latex": [
       "A tibble: 6 × 14\n",
       "\\begin{tabular}{llllllllllllll}\n",
       " age & sex & cp & trestbps & chol & fbs & restecg & thalach & exang & oldpeak & slope & ca & thal & num\\\\\n",
       " <dbl> & <dbl> & <dbl> & <dbl> & <dbl> & <dbl> & <dbl> & <dbl> & <dbl> & <dbl> & <dbl> & <chr> & <chr> & <dbl>\\\\\n",
       "\\hline\n",
       "\t 63 & 1 & 1 & 145 & 233 & 1 & 2 & 150 & 0 & 2.3 & 3 & 0.0 & 6.0 & 0\\\\\n",
       "\t 67 & 1 & 4 & 160 & 286 & 0 & 2 & 108 & 1 & 1.5 & 2 & 3.0 & 3.0 & 2\\\\\n",
       "\t 67 & 1 & 4 & 120 & 229 & 0 & 2 & 129 & 1 & 2.6 & 2 & 2.0 & 7.0 & 1\\\\\n",
       "\t 37 & 1 & 3 & 130 & 250 & 0 & 0 & 187 & 0 & 3.5 & 3 & 0.0 & 3.0 & 0\\\\\n",
       "\t 41 & 0 & 2 & 130 & 204 & 0 & 2 & 172 & 0 & 1.4 & 1 & 0.0 & 3.0 & 0\\\\\n",
       "\t 56 & 1 & 2 & 120 & 236 & 0 & 0 & 178 & 0 & 0.8 & 1 & 0.0 & 3.0 & 0\\\\\n",
       "\\end{tabular}\n"
      ],
      "text/markdown": [
       "\n",
       "A tibble: 6 × 14\n",
       "\n",
       "| age &lt;dbl&gt; | sex &lt;dbl&gt; | cp &lt;dbl&gt; | trestbps &lt;dbl&gt; | chol &lt;dbl&gt; | fbs &lt;dbl&gt; | restecg &lt;dbl&gt; | thalach &lt;dbl&gt; | exang &lt;dbl&gt; | oldpeak &lt;dbl&gt; | slope &lt;dbl&gt; | ca &lt;chr&gt; | thal &lt;chr&gt; | num &lt;dbl&gt; |\n",
       "|---|---|---|---|---|---|---|---|---|---|---|---|---|---|\n",
       "| 63 | 1 | 1 | 145 | 233 | 1 | 2 | 150 | 0 | 2.3 | 3 | 0.0 | 6.0 | 0 |\n",
       "| 67 | 1 | 4 | 160 | 286 | 0 | 2 | 108 | 1 | 1.5 | 2 | 3.0 | 3.0 | 2 |\n",
       "| 67 | 1 | 4 | 120 | 229 | 0 | 2 | 129 | 1 | 2.6 | 2 | 2.0 | 7.0 | 1 |\n",
       "| 37 | 1 | 3 | 130 | 250 | 0 | 0 | 187 | 0 | 3.5 | 3 | 0.0 | 3.0 | 0 |\n",
       "| 41 | 0 | 2 | 130 | 204 | 0 | 2 | 172 | 0 | 1.4 | 1 | 0.0 | 3.0 | 0 |\n",
       "| 56 | 1 | 2 | 120 | 236 | 0 | 0 | 178 | 0 | 0.8 | 1 | 0.0 | 3.0 | 0 |\n",
       "\n"
      ],
      "text/plain": [
       "  age sex cp trestbps chol fbs restecg thalach exang oldpeak slope ca  thal num\n",
       "1 63  1   1  145      233  1   2       150     0     2.3     3     0.0 6.0  0  \n",
       "2 67  1   4  160      286  0   2       108     1     1.5     2     3.0 3.0  2  \n",
       "3 67  1   4  120      229  0   2       129     1     2.6     2     2.0 7.0  1  \n",
       "4 37  1   3  130      250  0   0       187     0     3.5     3     0.0 3.0  0  \n",
       "5 41  0   2  130      204  0   2       172     0     1.4     1     0.0 3.0  0  \n",
       "6 56  1   2  120      236  0   0       178     0     0.8     1     0.0 3.0  0  "
      ]
     },
     "metadata": {},
     "output_type": "display_data"
    }
   ],
   "source": [
    "# Reading the data from the web, adding column names\n",
    "heart_data <- read_csv(\"https://raw.githubusercontent.com/Mr-Slope/DSCI-100_Group_Project/main/processed.cleveland.data\",\n",
    "                       col_names=c(\"age\", \"sex\", \"cp\", \"trestbps\", \"chol\", \"fbs\", \"restecg\", \n",
    "                                   \"thalach\", \"exang\", \"oldpeak\", \"slope\", \"ca\", \"thal\", \"num\"))\n",
    "# Preview the data set\n",
    "head(heart_data)"
   ]
  },
  {
   "cell_type": "code",
   "execution_count": 17,
   "id": "25a4c392-6cc0-4e3e-9c11-dc2ef1e54a69",
   "metadata": {
    "tags": []
   },
   "outputs": [
    {
     "data": {
      "text/html": [
       "<table class=\"dataframe\">\n",
       "<caption>A tibble: 6 × 14</caption>\n",
       "<thead>\n",
       "\t<tr><th scope=col>age</th><th scope=col>sex</th><th scope=col>cp</th><th scope=col>trestbps</th><th scope=col>chol</th><th scope=col>fbs</th><th scope=col>restecg</th><th scope=col>thalach</th><th scope=col>exang</th><th scope=col>oldpeak</th><th scope=col>slope</th><th scope=col>ca</th><th scope=col>thal</th><th scope=col>num</th></tr>\n",
       "\t<tr><th scope=col>&lt;dbl&gt;</th><th scope=col>&lt;dbl&gt;</th><th scope=col>&lt;fct&gt;</th><th scope=col>&lt;dbl&gt;</th><th scope=col>&lt;dbl&gt;</th><th scope=col>&lt;fct&gt;</th><th scope=col>&lt;fct&gt;</th><th scope=col>&lt;dbl&gt;</th><th scope=col>&lt;fct&gt;</th><th scope=col>&lt;dbl&gt;</th><th scope=col>&lt;fct&gt;</th><th scope=col>&lt;fct&gt;</th><th scope=col>&lt;fct&gt;</th><th scope=col>&lt;fct&gt;</th></tr>\n",
       "</thead>\n",
       "<tbody>\n",
       "\t<tr><td>63</td><td>1</td><td>angina  </td><td>145</td><td>233</td><td>high</td><td>damage</td><td>150</td><td>FALSE</td><td>2.3</td><td>down</td><td>0</td><td>fixed     </td><td>healthy</td></tr>\n",
       "\t<tr><td>67</td><td>1</td><td>asymp   </td><td>160</td><td>286</td><td>norm</td><td>damage</td><td>108</td><td>TRUE </td><td>1.5</td><td>flat</td><td>3</td><td>norm      </td><td>sick   </td></tr>\n",
       "\t<tr><td>67</td><td>1</td><td>asymp   </td><td>120</td><td>229</td><td>norm</td><td>damage</td><td>129</td><td>TRUE </td><td>2.6</td><td>flat</td><td>2</td><td>reversible</td><td>sick   </td></tr>\n",
       "\t<tr><td>37</td><td>1</td><td>nonang  </td><td>130</td><td>250</td><td>norm</td><td>norm  </td><td>187</td><td>FALSE</td><td>3.5</td><td>down</td><td>0</td><td>norm      </td><td>healthy</td></tr>\n",
       "\t<tr><td>41</td><td>0</td><td>abnormal</td><td>130</td><td>204</td><td>norm</td><td>damage</td><td>172</td><td>FALSE</td><td>1.4</td><td>up  </td><td>0</td><td>norm      </td><td>healthy</td></tr>\n",
       "\t<tr><td>56</td><td>1</td><td>abnormal</td><td>120</td><td>236</td><td>norm</td><td>norm  </td><td>178</td><td>FALSE</td><td>0.8</td><td>up  </td><td>0</td><td>norm      </td><td>healthy</td></tr>\n",
       "</tbody>\n",
       "</table>\n"
      ],
      "text/latex": [
       "A tibble: 6 × 14\n",
       "\\begin{tabular}{llllllllllllll}\n",
       " age & sex & cp & trestbps & chol & fbs & restecg & thalach & exang & oldpeak & slope & ca & thal & num\\\\\n",
       " <dbl> & <dbl> & <fct> & <dbl> & <dbl> & <fct> & <fct> & <dbl> & <fct> & <dbl> & <fct> & <fct> & <fct> & <fct>\\\\\n",
       "\\hline\n",
       "\t 63 & 1 & angina   & 145 & 233 & high & damage & 150 & FALSE & 2.3 & down & 0 & fixed      & healthy\\\\\n",
       "\t 67 & 1 & asymp    & 160 & 286 & norm & damage & 108 & TRUE  & 1.5 & flat & 3 & norm       & sick   \\\\\n",
       "\t 67 & 1 & asymp    & 120 & 229 & norm & damage & 129 & TRUE  & 2.6 & flat & 2 & reversible & sick   \\\\\n",
       "\t 37 & 1 & nonang   & 130 & 250 & norm & norm   & 187 & FALSE & 3.5 & down & 0 & norm       & healthy\\\\\n",
       "\t 41 & 0 & abnormal & 130 & 204 & norm & damage & 172 & FALSE & 1.4 & up   & 0 & norm       & healthy\\\\\n",
       "\t 56 & 1 & abnormal & 120 & 236 & norm & norm   & 178 & FALSE & 0.8 & up   & 0 & norm       & healthy\\\\\n",
       "\\end{tabular}\n"
      ],
      "text/markdown": [
       "\n",
       "A tibble: 6 × 14\n",
       "\n",
       "| age &lt;dbl&gt; | sex &lt;dbl&gt; | cp &lt;fct&gt; | trestbps &lt;dbl&gt; | chol &lt;dbl&gt; | fbs &lt;fct&gt; | restecg &lt;fct&gt; | thalach &lt;dbl&gt; | exang &lt;fct&gt; | oldpeak &lt;dbl&gt; | slope &lt;fct&gt; | ca &lt;fct&gt; | thal &lt;fct&gt; | num &lt;fct&gt; |\n",
       "|---|---|---|---|---|---|---|---|---|---|---|---|---|---|\n",
       "| 63 | 1 | angina   | 145 | 233 | high | damage | 150 | FALSE | 2.3 | down | 0 | fixed      | healthy |\n",
       "| 67 | 1 | asymp    | 160 | 286 | norm | damage | 108 | TRUE  | 1.5 | flat | 3 | norm       | sick    |\n",
       "| 67 | 1 | asymp    | 120 | 229 | norm | damage | 129 | TRUE  | 2.6 | flat | 2 | reversible | sick    |\n",
       "| 37 | 1 | nonang   | 130 | 250 | norm | norm   | 187 | FALSE | 3.5 | down | 0 | norm       | healthy |\n",
       "| 41 | 0 | abnormal | 130 | 204 | norm | damage | 172 | FALSE | 1.4 | up   | 0 | norm       | healthy |\n",
       "| 56 | 1 | abnormal | 120 | 236 | norm | norm   | 178 | FALSE | 0.8 | up   | 0 | norm       | healthy |\n",
       "\n"
      ],
      "text/plain": [
       "  age sex cp       trestbps chol fbs  restecg thalach exang oldpeak slope ca\n",
       "1 63  1   angina   145      233  high damage  150     FALSE 2.3     down  0 \n",
       "2 67  1   asymp    160      286  norm damage  108     TRUE  1.5     flat  3 \n",
       "3 67  1   asymp    120      229  norm damage  129     TRUE  2.6     flat  2 \n",
       "4 37  1   nonang   130      250  norm norm    187     FALSE 3.5     down  0 \n",
       "5 41  0   abnormal 130      204  norm damage  172     FALSE 1.4     up    0 \n",
       "6 56  1   abnormal 120      236  norm norm    178     FALSE 0.8     up    0 \n",
       "  thal       num    \n",
       "1 fixed      healthy\n",
       "2 norm       sick   \n",
       "3 reversible sick   \n",
       "4 norm       healthy\n",
       "5 norm       healthy\n",
       "6 norm       healthy"
      ]
     },
     "metadata": {},
     "output_type": "display_data"
    }
   ],
   "source": [
    "# Cleaning & Wrangling\n",
    "heart_tidy <- heart_data |>\n",
    "    filter(ca != \"?\", thal != \"?\") |>\n",
    "    mutate(across(c(ca, thal), as.numeric)) |>\n",
    "    mutate(across(c(cp, fbs, restecg, exang, slope, ca, thal, num), as_factor)) |>\n",
    "    mutate(cp = fct_recode(cp, \"angina\" = \"1\", \"abnormal\" = \"2\", \"nonang\" = \"3\", \"asymp\" = \"4\")) |>\n",
    "    mutate(fbs = fct_recode(fbs, \"high\" = \"1\", \"norm\" = \"0\")) |>\n",
    "    mutate(restecg = fct_recode(restecg, \"norm\" = \"0\", \"abnorm\" = \"1\", \"damage\" = \"2\")) |>\n",
    "    mutate(exang = fct_recode(exang, \"TRUE\" = \"1\", \"FALSE\" = \"0\")) |>\n",
    "    mutate(slope = fct_recode(slope, \"up\" = \"1\", \"flat\" = \"2\", \"down\" = \"3\")) |>\n",
    "    mutate(thal = fct_recode(thal, \"norm\" = \"3\", \"fixed\" = \"6\", \"reversible\" = \"7\")) |>\n",
    "    mutate(num = fct_recode(num, \"healthy\" = \"0\", \"sick\" = \"1\", \"sick\" = \"2\", \"sick\" = \"3\", \"sick\" = \"4\")) |> # in the data files, 1,2,3,4 are all sick\n",
    "    tibble() \n",
    "head(heart_tidy)\n",
    "     "
   ]
  },
  {
   "cell_type": "code",
   "execution_count": 20,
   "id": "71974a47-25b6-4083-804c-569e4b482460",
   "metadata": {
    "tags": []
   },
   "outputs": [],
   "source": [
    "# KNN Classification model with predictions for \n",
    "# Chol\n",
    "# Age & Chol\n",
    "# Age & thalach (Max heart rate)\n",
    "# Age & Chol & thalach (Max heart rate)\n",
    "set.seed(29)\n",
    "\n",
    "# Splitting the data (separate this)\n",
    "heart_split <- initial_split(heart_tidy, prop = 0.75, strata = num)\n",
    "heart_training <- training(heart_split)\n",
    "heart_testing <- testing(heart_split)\n",
    "\n",
    "# model \n",
    "heart_tune <- nearest_neighbor(weight=\"rectangular\", neighbors=tune()) |>\n",
    "    set_engine(\"kknn\") |>\n",
    "    set_mode(\"classification\")\n",
    "\n",
    "heart_vfold <- vfold_cv(heart_training, v = 5, strata = num)\n",
    "gridvals <- tibble(neighbors = seq(1,100,5))\n",
    "\n",
    "# Chol\n",
    "heart_recipe_chol <- recipe(num ~ chol, data = heart_training) |>\n",
    "    step_center(all_predictors()) |>\n",
    "    step_scale(all_predictors())\n",
    "\n",
    "heart_tune_chol <- workflow() |>\n",
    "    add_recipe(heart_recipe_chol) |>\n",
    "    add_model(heart_tune) |>\n",
    "    tune_grid(resamples = heart_vfold, grid = gridvals) |>\n",
    "    collect_metrics()\n",
    "\n",
    "# Age & Chol\n",
    "heart_recipe_age_chol <- recipe(num ~ age + chol, data = heart_training) |>\n",
    "    step_center(all_predictors()) |>\n",
    "    step_scale(all_predictors())\n",
    "\n",
    "heart_tune_age_chol <- workflow() |>\n",
    "    add_recipe(heart_recipe_age_chol) |>\n",
    "    add_model(heart_tune) |>\n",
    "    tune_grid(resamples = heart_vfold, grid = gridvals) |>\n",
    "    collect_metrics()\n",
    "\n",
    "# Age & thalach (Max heart rate)\n",
    "heart_recipe_age_thal <- recipe(num ~ age + thalach, data = heart_training) |>\n",
    "    step_center(all_predictors()) |>\n",
    "    step_scale(all_predictors())\n",
    "\n",
    "heart_tune_age_thal <- workflow() |>\n",
    "    add_recipe(heart_recipe_age_thal) |>\n",
    "    add_model(heart_tune) |>\n",
    "    tune_grid(resamples = heart_vfold, grid = gridvals) |>\n",
    "    collect_metrics()\n",
    "\n",
    "# Age & Chol & thalach (Max heart rate)\n",
    "heart_recipe_act <- recipe(num ~ age + chol + thalach, data = heart_training) |>\n",
    "    step_center(all_predictors()) |>\n",
    "    step_scale(all_predictors())\n",
    "\n",
    "heart_tune_act <- workflow() |>\n",
    "    add_recipe(heart_recipe_act) |>\n",
    "    add_model(heart_tune) |>\n",
    "    tune_grid(resamples = heart_vfold, grid = gridvals) |>\n",
    "    collect_metrics()"
   ]
  },
  {
   "cell_type": "code",
   "execution_count": 21,
   "id": "a9bd31f6-1496-4456-9851-744a889192a7",
   "metadata": {
    "tags": []
   },
   "outputs": [
    {
     "data": {
      "text/html": [
       "<table class=\"dataframe\">\n",
       "<caption>A tibble: 1 × 3</caption>\n",
       "<thead>\n",
       "\t<tr><th scope=col>neighbors</th><th scope=col>mean</th><th scope=col>.metric</th></tr>\n",
       "\t<tr><th scope=col>&lt;dbl&gt;</th><th scope=col>&lt;dbl&gt;</th><th scope=col>&lt;chr&gt;</th></tr>\n",
       "</thead>\n",
       "<tbody>\n",
       "\t<tr><td>21</td><td>0.540303</td><td>accuracy</td></tr>\n",
       "</tbody>\n",
       "</table>\n"
      ],
      "text/latex": [
       "A tibble: 1 × 3\n",
       "\\begin{tabular}{lll}\n",
       " neighbors & mean & .metric\\\\\n",
       " <dbl> & <dbl> & <chr>\\\\\n",
       "\\hline\n",
       "\t 21 & 0.540303 & accuracy\\\\\n",
       "\\end{tabular}\n"
      ],
      "text/markdown": [
       "\n",
       "A tibble: 1 × 3\n",
       "\n",
       "| neighbors &lt;dbl&gt; | mean &lt;dbl&gt; | .metric &lt;chr&gt; |\n",
       "|---|---|---|\n",
       "| 21 | 0.540303 | accuracy |\n",
       "\n"
      ],
      "text/plain": [
       "  neighbors mean     .metric \n",
       "1 21        0.540303 accuracy"
      ]
     },
     "metadata": {},
     "output_type": "display_data"
    },
    {
     "data": {
      "text/html": [
       "<table class=\"dataframe\">\n",
       "<caption>A tibble: 1 × 3</caption>\n",
       "<thead>\n",
       "\t<tr><th scope=col>neighbors</th><th scope=col>mean</th><th scope=col>.metric</th></tr>\n",
       "\t<tr><th scope=col>&lt;dbl&gt;</th><th scope=col>&lt;dbl&gt;</th><th scope=col>&lt;chr&gt;</th></tr>\n",
       "</thead>\n",
       "<tbody>\n",
       "\t<tr><td>66</td><td>0.599596</td><td>accuracy</td></tr>\n",
       "</tbody>\n",
       "</table>\n"
      ],
      "text/latex": [
       "A tibble: 1 × 3\n",
       "\\begin{tabular}{lll}\n",
       " neighbors & mean & .metric\\\\\n",
       " <dbl> & <dbl> & <chr>\\\\\n",
       "\\hline\n",
       "\t 66 & 0.599596 & accuracy\\\\\n",
       "\\end{tabular}\n"
      ],
      "text/markdown": [
       "\n",
       "A tibble: 1 × 3\n",
       "\n",
       "| neighbors &lt;dbl&gt; | mean &lt;dbl&gt; | .metric &lt;chr&gt; |\n",
       "|---|---|---|\n",
       "| 66 | 0.599596 | accuracy |\n",
       "\n"
      ],
      "text/plain": [
       "  neighbors mean     .metric \n",
       "1 66        0.599596 accuracy"
      ]
     },
     "metadata": {},
     "output_type": "display_data"
    },
    {
     "data": {
      "text/html": [
       "<table class=\"dataframe\">\n",
       "<caption>A tibble: 1 × 3</caption>\n",
       "<thead>\n",
       "\t<tr><th scope=col>neighbors</th><th scope=col>mean</th><th scope=col>.metric</th></tr>\n",
       "\t<tr><th scope=col>&lt;dbl&gt;</th><th scope=col>&lt;dbl&gt;</th><th scope=col>&lt;chr&gt;</th></tr>\n",
       "</thead>\n",
       "<tbody>\n",
       "\t<tr><td>16</td><td>0.7027273</td><td>accuracy</td></tr>\n",
       "</tbody>\n",
       "</table>\n"
      ],
      "text/latex": [
       "A tibble: 1 × 3\n",
       "\\begin{tabular}{lll}\n",
       " neighbors & mean & .metric\\\\\n",
       " <dbl> & <dbl> & <chr>\\\\\n",
       "\\hline\n",
       "\t 16 & 0.7027273 & accuracy\\\\\n",
       "\\end{tabular}\n"
      ],
      "text/markdown": [
       "\n",
       "A tibble: 1 × 3\n",
       "\n",
       "| neighbors &lt;dbl&gt; | mean &lt;dbl&gt; | .metric &lt;chr&gt; |\n",
       "|---|---|---|\n",
       "| 16 | 0.7027273 | accuracy |\n",
       "\n"
      ],
      "text/plain": [
       "  neighbors mean      .metric \n",
       "1 16        0.7027273 accuracy"
      ]
     },
     "metadata": {},
     "output_type": "display_data"
    },
    {
     "data": {
      "text/html": [
       "<table class=\"dataframe\">\n",
       "<caption>A tibble: 1 × 3</caption>\n",
       "<thead>\n",
       "\t<tr><th scope=col>neighbors</th><th scope=col>mean</th><th scope=col>.metric</th></tr>\n",
       "\t<tr><th scope=col>&lt;dbl&gt;</th><th scope=col>&lt;dbl&gt;</th><th scope=col>&lt;chr&gt;</th></tr>\n",
       "</thead>\n",
       "<tbody>\n",
       "\t<tr><td>86</td><td>0.689596</td><td>accuracy</td></tr>\n",
       "</tbody>\n",
       "</table>\n"
      ],
      "text/latex": [
       "A tibble: 1 × 3\n",
       "\\begin{tabular}{lll}\n",
       " neighbors & mean & .metric\\\\\n",
       " <dbl> & <dbl> & <chr>\\\\\n",
       "\\hline\n",
       "\t 86 & 0.689596 & accuracy\\\\\n",
       "\\end{tabular}\n"
      ],
      "text/markdown": [
       "\n",
       "A tibble: 1 × 3\n",
       "\n",
       "| neighbors &lt;dbl&gt; | mean &lt;dbl&gt; | .metric &lt;chr&gt; |\n",
       "|---|---|---|\n",
       "| 86 | 0.689596 | accuracy |\n",
       "\n"
      ],
      "text/plain": [
       "  neighbors mean     .metric \n",
       "1 86        0.689596 accuracy"
      ]
     },
     "metadata": {},
     "output_type": "display_data"
    }
   ],
   "source": [
    "heart_fit_chol_acc <- heart_tune_chol |>\n",
    "    select(neighbors, mean, .metric) |>\n",
    "    filter(.metric == \"accuracy\") |>\n",
    "    slice(5)\n",
    "heart_fit_chol_acc\n",
    "\n",
    "heart_fit_age_chol_acc <- heart_tune_age_chol |>\n",
    "    select(neighbors, mean, .metric) |>\n",
    "    filter(.metric == \"accuracy\") |>\n",
    "    slice_max(order_by = mean, n = 1)\n",
    "heart_fit_age_chol_acc\n",
    "\n",
    "heart_fit_age_thal_acc <- heart_tune_age_thal |>\n",
    "    select(neighbors, mean, .metric) |>\n",
    "    filter(.metric == \"accuracy\") |>\n",
    "    slice_max(order_by = mean, n = 1)\n",
    "heart_fit_age_thal_acc\n",
    "\n",
    "heart_fit_act_acc <- heart_tune_act |>\n",
    "    select(neighbors, mean, .metric) |>\n",
    "    filter(.metric == \"accuracy\") |>\n",
    "    slice_max(order_by = mean, n = 1)\n",
    "    \n",
    "heart_fit_act_acc"
   ]
  },
  {
   "cell_type": "code",
   "execution_count": 23,
   "id": "6216a1d6-fefe-4637-a454-5c4d0649b289",
   "metadata": {
    "tags": []
   },
   "outputs": [
    {
     "data": {
      "text/html": [
       "<table class=\"dataframe\">\n",
       "<caption>A tibble: 1 × 3</caption>\n",
       "<thead>\n",
       "\t<tr><th scope=col>.metric</th><th scope=col>.estimator</th><th scope=col>.estimate</th></tr>\n",
       "\t<tr><th scope=col>&lt;chr&gt;</th><th scope=col>&lt;chr&gt;</th><th scope=col>&lt;dbl&gt;</th></tr>\n",
       "</thead>\n",
       "<tbody>\n",
       "\t<tr><td>accuracy</td><td>binary</td><td>0.5333333</td></tr>\n",
       "</tbody>\n",
       "</table>\n"
      ],
      "text/latex": [
       "A tibble: 1 × 3\n",
       "\\begin{tabular}{lll}\n",
       " .metric & .estimator & .estimate\\\\\n",
       " <chr> & <chr> & <dbl>\\\\\n",
       "\\hline\n",
       "\t accuracy & binary & 0.5333333\\\\\n",
       "\\end{tabular}\n"
      ],
      "text/markdown": [
       "\n",
       "A tibble: 1 × 3\n",
       "\n",
       "| .metric &lt;chr&gt; | .estimator &lt;chr&gt; | .estimate &lt;dbl&gt; |\n",
       "|---|---|---|\n",
       "| accuracy | binary | 0.5333333 |\n",
       "\n"
      ],
      "text/plain": [
       "  .metric  .estimator .estimate\n",
       "1 accuracy binary     0.5333333"
      ]
     },
     "metadata": {},
     "output_type": "display_data"
    },
    {
     "data": {
      "text/plain": [
       "          Truth\n",
       "Prediction healthy sick\n",
       "   healthy      25   20\n",
       "   sick         15   15"
      ]
     },
     "metadata": {},
     "output_type": "display_data"
    },
    {
     "data": {
      "text/html": [
       "<table class=\"dataframe\">\n",
       "<caption>A tibble: 1 × 3</caption>\n",
       "<thead>\n",
       "\t<tr><th scope=col>.metric</th><th scope=col>.estimator</th><th scope=col>.estimate</th></tr>\n",
       "\t<tr><th scope=col>&lt;chr&gt;</th><th scope=col>&lt;chr&gt;</th><th scope=col>&lt;dbl&gt;</th></tr>\n",
       "</thead>\n",
       "<tbody>\n",
       "\t<tr><td>accuracy</td><td>binary</td><td>0.6666667</td></tr>\n",
       "</tbody>\n",
       "</table>\n"
      ],
      "text/latex": [
       "A tibble: 1 × 3\n",
       "\\begin{tabular}{lll}\n",
       " .metric & .estimator & .estimate\\\\\n",
       " <chr> & <chr> & <dbl>\\\\\n",
       "\\hline\n",
       "\t accuracy & binary & 0.6666667\\\\\n",
       "\\end{tabular}\n"
      ],
      "text/markdown": [
       "\n",
       "A tibble: 1 × 3\n",
       "\n",
       "| .metric &lt;chr&gt; | .estimator &lt;chr&gt; | .estimate &lt;dbl&gt; |\n",
       "|---|---|---|\n",
       "| accuracy | binary | 0.6666667 |\n",
       "\n"
      ],
      "text/plain": [
       "  .metric  .estimator .estimate\n",
       "1 accuracy binary     0.6666667"
      ]
     },
     "metadata": {},
     "output_type": "display_data"
    },
    {
     "data": {
      "text/plain": [
       "          Truth\n",
       "Prediction healthy sick\n",
       "   healthy      30   15\n",
       "   sick         10   20"
      ]
     },
     "metadata": {},
     "output_type": "display_data"
    },
    {
     "data": {
      "text/html": [
       "<table class=\"dataframe\">\n",
       "<caption>A tibble: 1 × 3</caption>\n",
       "<thead>\n",
       "\t<tr><th scope=col>.metric</th><th scope=col>.estimator</th><th scope=col>.estimate</th></tr>\n",
       "\t<tr><th scope=col>&lt;chr&gt;</th><th scope=col>&lt;chr&gt;</th><th scope=col>&lt;dbl&gt;</th></tr>\n",
       "</thead>\n",
       "<tbody>\n",
       "\t<tr><td>accuracy</td><td>binary</td><td>0.7466667</td></tr>\n",
       "</tbody>\n",
       "</table>\n"
      ],
      "text/latex": [
       "A tibble: 1 × 3\n",
       "\\begin{tabular}{lll}\n",
       " .metric & .estimator & .estimate\\\\\n",
       " <chr> & <chr> & <dbl>\\\\\n",
       "\\hline\n",
       "\t accuracy & binary & 0.7466667\\\\\n",
       "\\end{tabular}\n"
      ],
      "text/markdown": [
       "\n",
       "A tibble: 1 × 3\n",
       "\n",
       "| .metric &lt;chr&gt; | .estimator &lt;chr&gt; | .estimate &lt;dbl&gt; |\n",
       "|---|---|---|\n",
       "| accuracy | binary | 0.7466667 |\n",
       "\n"
      ],
      "text/plain": [
       "  .metric  .estimator .estimate\n",
       "1 accuracy binary     0.7466667"
      ]
     },
     "metadata": {},
     "output_type": "display_data"
    },
    {
     "data": {
      "text/plain": [
       "          Truth\n",
       "Prediction healthy sick\n",
       "   healthy      31   10\n",
       "   sick          9   25"
      ]
     },
     "metadata": {},
     "output_type": "display_data"
    },
    {
     "data": {
      "text/html": [
       "<table class=\"dataframe\">\n",
       "<caption>A tibble: 1 × 3</caption>\n",
       "<thead>\n",
       "\t<tr><th scope=col>.metric</th><th scope=col>.estimator</th><th scope=col>.estimate</th></tr>\n",
       "\t<tr><th scope=col>&lt;chr&gt;</th><th scope=col>&lt;chr&gt;</th><th scope=col>&lt;dbl&gt;</th></tr>\n",
       "</thead>\n",
       "<tbody>\n",
       "\t<tr><td>accuracy</td><td>binary</td><td>0.6533333</td></tr>\n",
       "</tbody>\n",
       "</table>\n"
      ],
      "text/latex": [
       "A tibble: 1 × 3\n",
       "\\begin{tabular}{lll}\n",
       " .metric & .estimator & .estimate\\\\\n",
       " <chr> & <chr> & <dbl>\\\\\n",
       "\\hline\n",
       "\t accuracy & binary & 0.6533333\\\\\n",
       "\\end{tabular}\n"
      ],
      "text/markdown": [
       "\n",
       "A tibble: 1 × 3\n",
       "\n",
       "| .metric &lt;chr&gt; | .estimator &lt;chr&gt; | .estimate &lt;dbl&gt; |\n",
       "|---|---|---|\n",
       "| accuracy | binary | 0.6533333 |\n",
       "\n"
      ],
      "text/plain": [
       "  .metric  .estimator .estimate\n",
       "1 accuracy binary     0.6533333"
      ]
     },
     "metadata": {},
     "output_type": "display_data"
    },
    {
     "data": {
      "text/plain": [
       "          Truth\n",
       "Prediction healthy sick\n",
       "   healthy      29   15\n",
       "   sick         11   20"
      ]
     },
     "metadata": {},
     "output_type": "display_data"
    }
   ],
   "source": [
    "heart_spec_s <- nearest_neighbor(weight=\"rectangular\", neighbors=5) |>\n",
    "    set_engine(\"kknn\") |>\n",
    "    set_mode(\"classification\")\n",
    "\n",
    "heart_spec_st <- nearest_neighbor(weight=\"rectangular\", neighbors=35) |>\n",
    "    set_engine(\"kknn\") |>\n",
    "    set_mode(\"classification\")\n",
    "\n",
    "heart_spec_ast <- nearest_neighbor(weight=\"rectangular\", neighbors=13) |>\n",
    "    set_engine(\"kknn\") |>\n",
    "    set_mode(\"classification\")\n",
    "# chol\n",
    "heart_fit_chol <- workflow() |>\n",
    "    add_recipe(heart_recipe_chol) |>\n",
    "    add_model(heart_spec_s) |>\n",
    "    fit(heart_training) \n",
    "\n",
    "heart_pred_chol <- heart_fit_chol |>\n",
    "    predict(heart_testing) |>\n",
    "    bind_cols(heart_testing) \n",
    "heart_pred_chol_metrics <- heart_pred_chol |>\n",
    "    metrics(truth = num, estimate=.pred_class) |>\n",
    "    filter(.metric == \"accuracy\")\n",
    "heart_pred_chol_metrics\n",
    "heart_pred_chol_conf <- heart_pred_chol |>\n",
    "    conf_mat(truth=num, estimate=.pred_class)\n",
    "heart_pred_chol_conf\n",
    "\n",
    "# chol and age\n",
    "heart_fit_age_chol <- workflow() |>\n",
    "    add_recipe(heart_recipe_age_chol) |>\n",
    "    add_model(heart_spec_st) |>\n",
    "    fit(heart_training) \n",
    "\n",
    "heart_pred_age_chol <- heart_fit_age_chol |>\n",
    "    predict(heart_testing) |>\n",
    "    bind_cols(heart_testing) \n",
    "heart_pred_age_chol_metrics <- heart_pred_age_chol |>\n",
    "    metrics(truth = num, estimate=.pred_class) |>\n",
    "    filter(.metric == \"accuracy\")\n",
    "heart_pred_age_chol_metrics\n",
    "heart_pred_age_chol_conf <- heart_pred_age_chol |>\n",
    "    conf_mat(truth=num,estimate=.pred_class)\n",
    "heart_pred_age_chol_conf\n",
    "\n",
    "# age and thalach\n",
    "heart_fit_age_thal <- workflow() |>\n",
    "    add_recipe(heart_recipe_age_thal) |>\n",
    "    add_model(heart_spec_st) |>\n",
    "    fit(heart_training) \n",
    "\n",
    "heart_pred_age_thal <- heart_fit_age_thal |>\n",
    "    predict(heart_testing) |>\n",
    "    bind_cols(heart_testing) \n",
    "heart_pred_age_thal_metrics <- heart_pred_age_thal |>\n",
    "    metrics(truth = num, estimate=.pred_class) |>\n",
    "    filter(.metric == \"accuracy\")\n",
    "heart_pred_age_thal_metrics\n",
    "heart_pred_age_thal_conf <- heart_pred_age_thal |>\n",
    "    conf_mat(truth=num,estimate=.pred_class)\n",
    "heart_pred_age_thal_conf\n",
    "\n",
    "# age, chol, and thalach\n",
    "heart_fit_act <- workflow() |>\n",
    "    add_recipe(heart_recipe_act) |>\n",
    "    add_model(heart_spec_ast) |>\n",
    "    fit(heart_training) \n",
    "\n",
    "heart_pred_act <- heart_fit_act |>\n",
    "    predict(heart_testing) |>\n",
    "    bind_cols(heart_testing) \n",
    "heart_pred_act_metrics <- heart_pred_act |>\n",
    "    metrics(truth = num, estimate=.pred_class) |>\n",
    "    filter(.metric == \"accuracy\")\n",
    "heart_pred_act_metrics\n",
    "heart_pred_act_conf <- heart_pred_act |>\n",
    "    conf_mat(truth=num,estimate=.pred_class)\n",
    "heart_pred_act_conf"
   ]
  },
  {
   "cell_type": "code",
   "execution_count": null,
   "id": "3c340411-bc29-4a82-9a0c-a356d05f2662",
   "metadata": {},
   "outputs": [],
   "source": []
  }
 ],
 "metadata": {
  "kernelspec": {
   "display_name": "R",
   "language": "R",
   "name": "ir"
  },
  "language_info": {
   "codemirror_mode": "r",
   "file_extension": ".r",
   "mimetype": "text/x-r-source",
   "name": "R",
   "pygments_lexer": "r",
   "version": "4.2.2"
  }
 },
 "nbformat": 4,
 "nbformat_minor": 5
}
