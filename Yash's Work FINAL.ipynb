{
 "cells": [
  {
   "cell_type": "code",
   "execution_count": 1,
   "id": "e3a74b45-9e92-41c3-8fa6-dab1b7838849",
   "metadata": {
    "tags": []
   },
   "outputs": [
    {
     "name": "stderr",
     "output_type": "stream",
     "text": [
      "── \u001b[1mAttaching packages\u001b[22m ─────────────────────────────────────── tidyverse 1.3.2 ──\n",
      "\u001b[32m✔\u001b[39m \u001b[34mggplot2\u001b[39m 3.4.2     \u001b[32m✔\u001b[39m \u001b[34mpurrr  \u001b[39m 1.0.1\n",
      "\u001b[32m✔\u001b[39m \u001b[34mtibble \u001b[39m 3.2.1     \u001b[32m✔\u001b[39m \u001b[34mdplyr  \u001b[39m 1.1.1\n",
      "\u001b[32m✔\u001b[39m \u001b[34mtidyr  \u001b[39m 1.3.0     \u001b[32m✔\u001b[39m \u001b[34mstringr\u001b[39m 1.5.0\n",
      "\u001b[32m✔\u001b[39m \u001b[34mreadr  \u001b[39m 2.1.3     \u001b[32m✔\u001b[39m \u001b[34mforcats\u001b[39m 0.5.2\n",
      "── \u001b[1mConflicts\u001b[22m ────────────────────────────────────────── tidyverse_conflicts() ──\n",
      "\u001b[31m✖\u001b[39m \u001b[34mdplyr\u001b[39m::\u001b[32mfilter()\u001b[39m masks \u001b[34mstats\u001b[39m::filter()\n",
      "\u001b[31m✖\u001b[39m \u001b[34mdplyr\u001b[39m::\u001b[32mlag()\u001b[39m    masks \u001b[34mstats\u001b[39m::lag()\n",
      "── \u001b[1mAttaching packages\u001b[22m ────────────────────────────────────── tidymodels 1.0.0 ──\n",
      "\n",
      "\u001b[32m✔\u001b[39m \u001b[34mbroom       \u001b[39m 1.0.2     \u001b[32m✔\u001b[39m \u001b[34mrsample     \u001b[39m 1.1.1\n",
      "\u001b[32m✔\u001b[39m \u001b[34mdials       \u001b[39m 1.1.0     \u001b[32m✔\u001b[39m \u001b[34mtune        \u001b[39m 1.0.1\n",
      "\u001b[32m✔\u001b[39m \u001b[34minfer       \u001b[39m 1.0.4     \u001b[32m✔\u001b[39m \u001b[34mworkflows   \u001b[39m 1.1.2\n",
      "\u001b[32m✔\u001b[39m \u001b[34mmodeldata   \u001b[39m 1.0.1     \u001b[32m✔\u001b[39m \u001b[34mworkflowsets\u001b[39m 1.0.0\n",
      "\u001b[32m✔\u001b[39m \u001b[34mparsnip     \u001b[39m 1.0.3     \u001b[32m✔\u001b[39m \u001b[34myardstick   \u001b[39m 1.1.0\n",
      "\u001b[32m✔\u001b[39m \u001b[34mrecipes     \u001b[39m 1.0.4     \n",
      "\n",
      "── \u001b[1mConflicts\u001b[22m ───────────────────────────────────────── tidymodels_conflicts() ──\n",
      "\u001b[31m✖\u001b[39m \u001b[34mscales\u001b[39m::\u001b[32mdiscard()\u001b[39m masks \u001b[34mpurrr\u001b[39m::discard()\n",
      "\u001b[31m✖\u001b[39m \u001b[34mdplyr\u001b[39m::\u001b[32mfilter()\u001b[39m   masks \u001b[34mstats\u001b[39m::filter()\n",
      "\u001b[31m✖\u001b[39m \u001b[34mrecipes\u001b[39m::\u001b[32mfixed()\u001b[39m  masks \u001b[34mstringr\u001b[39m::fixed()\n",
      "\u001b[31m✖\u001b[39m \u001b[34mdplyr\u001b[39m::\u001b[32mlag()\u001b[39m      masks \u001b[34mstats\u001b[39m::lag()\n",
      "\u001b[31m✖\u001b[39m \u001b[34myardstick\u001b[39m::\u001b[32mspec()\u001b[39m masks \u001b[34mreadr\u001b[39m::spec()\n",
      "\u001b[31m✖\u001b[39m \u001b[34mrecipes\u001b[39m::\u001b[32mstep()\u001b[39m   masks \u001b[34mstats\u001b[39m::step()\n",
      "\u001b[34m•\u001b[39m Use suppressPackageStartupMessages() to eliminate package startup messages\n",
      "\n",
      "Updating HTML index of packages in '.Library'\n",
      "\n",
      "Making 'packages.html' ...\n",
      " done\n",
      "\n"
     ]
    }
   ],
   "source": [
    "library(tidyverse)\n",
    "library(tidymodels)\n",
    "install.packages(\"kknn\")"
   ]
  },
  {
   "cell_type": "code",
   "execution_count": 2,
   "id": "c4c35f09-4408-4c1c-a5de-7b28ec2c8f61",
   "metadata": {
    "tags": []
   },
   "outputs": [
    {
     "name": "stderr",
     "output_type": "stream",
     "text": [
      "\u001b[1mRows: \u001b[22m\u001b[34m303\u001b[39m \u001b[1mColumns: \u001b[22m\u001b[34m14\u001b[39m\n",
      "\u001b[36m──\u001b[39m \u001b[1mColumn specification\u001b[22m \u001b[36m────────────────────────────────────────────────────────\u001b[39m\n",
      "\u001b[1mDelimiter:\u001b[22m \",\"\n",
      "\u001b[31mchr\u001b[39m  (2): ca, thal\n",
      "\u001b[32mdbl\u001b[39m (12): age, sex, cp, trestbps, chol, fbs, restecg, thalach, exang, oldpea...\n",
      "\n",
      "\u001b[36mℹ\u001b[39m Use `spec()` to retrieve the full column specification for this data.\n",
      "\u001b[36mℹ\u001b[39m Specify the column types or set `show_col_types = FALSE` to quiet this message.\n"
     ]
    },
    {
     "data": {
      "text/html": [
       "<table class=\"dataframe\">\n",
       "<caption>A tibble: 6 × 14</caption>\n",
       "<thead>\n",
       "\t<tr><th scope=col>age</th><th scope=col>sex</th><th scope=col>cp</th><th scope=col>trestbps</th><th scope=col>chol</th><th scope=col>fbs</th><th scope=col>restecg</th><th scope=col>thalach</th><th scope=col>exang</th><th scope=col>oldpeak</th><th scope=col>slope</th><th scope=col>ca</th><th scope=col>thal</th><th scope=col>num</th></tr>\n",
       "\t<tr><th scope=col>&lt;dbl&gt;</th><th scope=col>&lt;dbl&gt;</th><th scope=col>&lt;dbl&gt;</th><th scope=col>&lt;dbl&gt;</th><th scope=col>&lt;dbl&gt;</th><th scope=col>&lt;dbl&gt;</th><th scope=col>&lt;dbl&gt;</th><th scope=col>&lt;dbl&gt;</th><th scope=col>&lt;dbl&gt;</th><th scope=col>&lt;dbl&gt;</th><th scope=col>&lt;dbl&gt;</th><th scope=col>&lt;chr&gt;</th><th scope=col>&lt;chr&gt;</th><th scope=col>&lt;dbl&gt;</th></tr>\n",
       "</thead>\n",
       "<tbody>\n",
       "\t<tr><td>63</td><td>1</td><td>1</td><td>145</td><td>233</td><td>1</td><td>2</td><td>150</td><td>0</td><td>2.3</td><td>3</td><td>0.0</td><td>6.0</td><td>0</td></tr>\n",
       "\t<tr><td>67</td><td>1</td><td>4</td><td>160</td><td>286</td><td>0</td><td>2</td><td>108</td><td>1</td><td>1.5</td><td>2</td><td>3.0</td><td>3.0</td><td>2</td></tr>\n",
       "\t<tr><td>67</td><td>1</td><td>4</td><td>120</td><td>229</td><td>0</td><td>2</td><td>129</td><td>1</td><td>2.6</td><td>2</td><td>2.0</td><td>7.0</td><td>1</td></tr>\n",
       "\t<tr><td>37</td><td>1</td><td>3</td><td>130</td><td>250</td><td>0</td><td>0</td><td>187</td><td>0</td><td>3.5</td><td>3</td><td>0.0</td><td>3.0</td><td>0</td></tr>\n",
       "\t<tr><td>41</td><td>0</td><td>2</td><td>130</td><td>204</td><td>0</td><td>2</td><td>172</td><td>0</td><td>1.4</td><td>1</td><td>0.0</td><td>3.0</td><td>0</td></tr>\n",
       "\t<tr><td>56</td><td>1</td><td>2</td><td>120</td><td>236</td><td>0</td><td>0</td><td>178</td><td>0</td><td>0.8</td><td>1</td><td>0.0</td><td>3.0</td><td>0</td></tr>\n",
       "</tbody>\n",
       "</table>\n"
      ],
      "text/latex": [
       "A tibble: 6 × 14\n",
       "\\begin{tabular}{llllllllllllll}\n",
       " age & sex & cp & trestbps & chol & fbs & restecg & thalach & exang & oldpeak & slope & ca & thal & num\\\\\n",
       " <dbl> & <dbl> & <dbl> & <dbl> & <dbl> & <dbl> & <dbl> & <dbl> & <dbl> & <dbl> & <dbl> & <chr> & <chr> & <dbl>\\\\\n",
       "\\hline\n",
       "\t 63 & 1 & 1 & 145 & 233 & 1 & 2 & 150 & 0 & 2.3 & 3 & 0.0 & 6.0 & 0\\\\\n",
       "\t 67 & 1 & 4 & 160 & 286 & 0 & 2 & 108 & 1 & 1.5 & 2 & 3.0 & 3.0 & 2\\\\\n",
       "\t 67 & 1 & 4 & 120 & 229 & 0 & 2 & 129 & 1 & 2.6 & 2 & 2.0 & 7.0 & 1\\\\\n",
       "\t 37 & 1 & 3 & 130 & 250 & 0 & 0 & 187 & 0 & 3.5 & 3 & 0.0 & 3.0 & 0\\\\\n",
       "\t 41 & 0 & 2 & 130 & 204 & 0 & 2 & 172 & 0 & 1.4 & 1 & 0.0 & 3.0 & 0\\\\\n",
       "\t 56 & 1 & 2 & 120 & 236 & 0 & 0 & 178 & 0 & 0.8 & 1 & 0.0 & 3.0 & 0\\\\\n",
       "\\end{tabular}\n"
      ],
      "text/markdown": [
       "\n",
       "A tibble: 6 × 14\n",
       "\n",
       "| age &lt;dbl&gt; | sex &lt;dbl&gt; | cp &lt;dbl&gt; | trestbps &lt;dbl&gt; | chol &lt;dbl&gt; | fbs &lt;dbl&gt; | restecg &lt;dbl&gt; | thalach &lt;dbl&gt; | exang &lt;dbl&gt; | oldpeak &lt;dbl&gt; | slope &lt;dbl&gt; | ca &lt;chr&gt; | thal &lt;chr&gt; | num &lt;dbl&gt; |\n",
       "|---|---|---|---|---|---|---|---|---|---|---|---|---|---|\n",
       "| 63 | 1 | 1 | 145 | 233 | 1 | 2 | 150 | 0 | 2.3 | 3 | 0.0 | 6.0 | 0 |\n",
       "| 67 | 1 | 4 | 160 | 286 | 0 | 2 | 108 | 1 | 1.5 | 2 | 3.0 | 3.0 | 2 |\n",
       "| 67 | 1 | 4 | 120 | 229 | 0 | 2 | 129 | 1 | 2.6 | 2 | 2.0 | 7.0 | 1 |\n",
       "| 37 | 1 | 3 | 130 | 250 | 0 | 0 | 187 | 0 | 3.5 | 3 | 0.0 | 3.0 | 0 |\n",
       "| 41 | 0 | 2 | 130 | 204 | 0 | 2 | 172 | 0 | 1.4 | 1 | 0.0 | 3.0 | 0 |\n",
       "| 56 | 1 | 2 | 120 | 236 | 0 | 0 | 178 | 0 | 0.8 | 1 | 0.0 | 3.0 | 0 |\n",
       "\n"
      ],
      "text/plain": [
       "  age sex cp trestbps chol fbs restecg thalach exang oldpeak slope ca  thal num\n",
       "1 63  1   1  145      233  1   2       150     0     2.3     3     0.0 6.0  0  \n",
       "2 67  1   4  160      286  0   2       108     1     1.5     2     3.0 3.0  2  \n",
       "3 67  1   4  120      229  0   2       129     1     2.6     2     2.0 7.0  1  \n",
       "4 37  1   3  130      250  0   0       187     0     3.5     3     0.0 3.0  0  \n",
       "5 41  0   2  130      204  0   2       172     0     1.4     1     0.0 3.0  0  \n",
       "6 56  1   2  120      236  0   0       178     0     0.8     1     0.0 3.0  0  "
      ]
     },
     "metadata": {},
     "output_type": "display_data"
    }
   ],
   "source": [
    "heart_data <- read_csv(\"https://raw.githubusercontent.com/Mr-Slope/DSCI-100_Group_Project/main/processed.cleveland.data\",\n",
    "                       col_names=c(\"age\", \"sex\", \"cp\", \"trestbps\", \"chol\", \"fbs\", \"restecg\", \n",
    "                                   \"thalach\", \"exang\", \"oldpeak\", \"slope\", \"ca\", \"thal\", \"num\"))\n",
    "head(heart_data)"
   ]
  },
  {
   "cell_type": "code",
   "execution_count": 14,
   "id": "f14f1bc1-f6f8-4e5c-ac19-18f81abf161b",
   "metadata": {
    "tags": []
   },
   "outputs": [],
   "source": [
    "heart_tidy <- heart_data |>\n",
    "    filter(ca != \"?\", thal != \"?\") |>\n",
    "    mutate(across(c(ca, thal), as.numeric)) |>\n",
    "    mutate(across(c(cp, fbs, restecg, exang, slope, ca, thal, num), as_factor)) |>\n",
    "    mutate(cp = fct_recode(cp, \"angina\" = \"1\", \"abnormal\" = \"2\", \"nonang\" = \"3\", \"asymp\" = \"4\")) |>\n",
    "    mutate(fbs = fct_recode(fbs, \"high\" = \"1\", \"norm\" = \"0\")) |>\n",
    "    mutate(restecg = fct_recode(restecg, \"norm\" = \"0\", \"abnorm\" = \"1\", \"damage\" = \"2\")) |>\n",
    "    mutate(exang = fct_recode(exang, \"TRUE\" = \"1\", \"FALSE\" = \"0\")) |>\n",
    "    mutate(slope = fct_recode(slope, \"up\" = \"1\", \"flat\" = \"2\", \"down\" = \"3\")) |>\n",
    "    mutate(thal = fct_recode(thal, \"norm\" = \"3\", \"fixed\" = \"6\", \"reversible\" = \"7\")) |>\n",
    "    mutate(num = fct_recode(num, \"healthy\" = \"0\", \"sick\" = \"1\", \"sick\" = \"2\", \"sick\" = \"3\", \"sick\" = \"4\")) |> # in the data files, 1,2,3,4 are all sick\n",
    "    tibble() "
   ]
  },
  {
   "cell_type": "code",
   "execution_count": 15,
   "id": "8dbb4923-de78-4de8-8850-bbe5f8022f76",
   "metadata": {
    "tags": []
   },
   "outputs": [],
   "source": [
    "set.seed(29)\n",
    "\n",
    "heart_split <- initial_split(heart_tidy, prop = 0.75, strata = num)\n",
    "heart_training <- training(heart_split)\n",
    "heart_testing <- testing(heart_split)"
   ]
  },
  {
   "cell_type": "code",
   "execution_count": 16,
   "id": "01a92cd3-b0e9-4f77-82af-07c9978a33fa",
   "metadata": {
    "tags": []
   },
   "outputs": [],
   "source": [
    "heart_tune <- nearest_neighbor(weight=\"rectangular\", neighbors=tune()) |>\n",
    "    set_engine(\"kknn\") |>\n",
    "    set_mode(\"classification\")\n",
    "\n",
    "heart_vfold <- vfold_cv(heart_training, v = 5, strata = num)\n",
    "\n",
    "gridvals <- tibble(neighbors = seq(1,100,5))"
   ]
  },
  {
   "cell_type": "code",
   "execution_count": 17,
   "id": "91c6d710-bc07-421e-9f50-164f229981b3",
   "metadata": {
    "tags": []
   },
   "outputs": [],
   "source": [
    "heart_recipe_age <- recipe(num ~ age, data = heart_training) |>\n",
    "                        step_scale(all_numeric_predictors())|>\n",
    "                            step_center(all_numeric_predictors())\n",
    "\n",
    "heart_results_age <- workflow() |>\n",
    "                        add_recipe(heart_recipe_age) |>\n",
    "                            add_model(heart_tune) |>\n",
    "                                tune_grid(resamples = heart_vfold, grid = gridvals) |>\n",
    "                                    collect_metrics()\n",
    "\n",
    "heart_recipe_a_s <- recipe(num ~ age + sex, data = heart_training) |>\n",
    "                        step_scale(all_numeric_predictors())|>\n",
    "                            step_center(all_numeric_predictors())\n",
    "\n",
    "heart_results_a_s_ <- workflow() |>\n",
    "                        add_recipe(heart_recipe_a_s) |>\n",
    "                            add_model(heart_tune) |>\n",
    "                                tune_grid(resamples = heart_vfold, grid = gridvals) |>\n",
    "                                    collect_metrics()\n",
    "\n",
    "heart_recipe_a_s_c <- recipe(num ~ age + sex + chol, data = heart_training) |>\n",
    "                        step_scale(all_numeric_predictors())|>\n",
    "                            step_center(all_numeric_predictors())\n",
    "\n",
    "heart_results_a_s_c_ <- workflow() |>\n",
    "                            add_recipe(heart_recipe_a_s_c) |>\n",
    "                                add_model(heart_tune) |>\n",
    "                                    tune_grid(resamples = heart_vfold, grid = gridvals) |>\n",
    "                                        collect_metrics()\n",
    "\n",
    "heart_recipe_a_s_c_th <- recipe(num ~ age + sex + chol + thalach, data = heart_training) |>\n",
    "                            step_scale(all_numeric_predictors())|>\n",
    "                                step_center(all_numeric_predictors())\n",
    "\n",
    "heart_results_a_s_c_th <- workflow() |>\n",
    "                            add_recipe(heart_recipe_a_s_c_th) |>\n",
    "                                add_model(heart_tune) |>\n",
    "                                    tune_grid(resamples = heart_vfold, grid = gridvals) |>\n",
    "                                        collect_metrics()"
   ]
  },
  {
   "cell_type": "code",
   "execution_count": 18,
   "id": "ee66e749-c0ad-410d-a322-1dcf1c0f2723",
   "metadata": {
    "tags": []
   },
   "outputs": [
    {
     "data": {
      "text/html": [
       "<table class=\"dataframe\">\n",
       "<caption>A tibble: 1 × 3</caption>\n",
       "<thead>\n",
       "\t<tr><th scope=col>neighbors</th><th scope=col>mean</th><th scope=col>.metric</th></tr>\n",
       "\t<tr><th scope=col>&lt;dbl&gt;</th><th scope=col>&lt;dbl&gt;</th><th scope=col>&lt;chr&gt;</th></tr>\n",
       "</thead>\n",
       "<tbody>\n",
       "\t<tr><td>56</td><td>0.599697</td><td>accuracy</td></tr>\n",
       "</tbody>\n",
       "</table>\n"
      ],
      "text/latex": [
       "A tibble: 1 × 3\n",
       "\\begin{tabular}{lll}\n",
       " neighbors & mean & .metric\\\\\n",
       " <dbl> & <dbl> & <chr>\\\\\n",
       "\\hline\n",
       "\t 56 & 0.599697 & accuracy\\\\\n",
       "\\end{tabular}\n"
      ],
      "text/markdown": [
       "\n",
       "A tibble: 1 × 3\n",
       "\n",
       "| neighbors &lt;dbl&gt; | mean &lt;dbl&gt; | .metric &lt;chr&gt; |\n",
       "|---|---|---|\n",
       "| 56 | 0.599697 | accuracy |\n",
       "\n"
      ],
      "text/plain": [
       "  neighbors mean     .metric \n",
       "1 56        0.599697 accuracy"
      ]
     },
     "metadata": {},
     "output_type": "display_data"
    },
    {
     "data": {
      "text/html": [
       "<table class=\"dataframe\">\n",
       "<caption>A tibble: 1 × 3</caption>\n",
       "<thead>\n",
       "\t<tr><th scope=col>neighbors</th><th scope=col>mean</th><th scope=col>.metric</th></tr>\n",
       "\t<tr><th scope=col>&lt;dbl&gt;</th><th scope=col>&lt;dbl&gt;</th><th scope=col>&lt;chr&gt;</th></tr>\n",
       "</thead>\n",
       "<tbody>\n",
       "\t<tr><td>56</td><td>0.6258586</td><td>accuracy</td></tr>\n",
       "</tbody>\n",
       "</table>\n"
      ],
      "text/latex": [
       "A tibble: 1 × 3\n",
       "\\begin{tabular}{lll}\n",
       " neighbors & mean & .metric\\\\\n",
       " <dbl> & <dbl> & <chr>\\\\\n",
       "\\hline\n",
       "\t 56 & 0.6258586 & accuracy\\\\\n",
       "\\end{tabular}\n"
      ],
      "text/markdown": [
       "\n",
       "A tibble: 1 × 3\n",
       "\n",
       "| neighbors &lt;dbl&gt; | mean &lt;dbl&gt; | .metric &lt;chr&gt; |\n",
       "|---|---|---|\n",
       "| 56 | 0.6258586 | accuracy |\n",
       "\n"
      ],
      "text/plain": [
       "  neighbors mean      .metric \n",
       "1 56        0.6258586 accuracy"
      ]
     },
     "metadata": {},
     "output_type": "display_data"
    },
    {
     "data": {
      "text/html": [
       "<table class=\"dataframe\">\n",
       "<caption>A tibble: 1 × 3</caption>\n",
       "<thead>\n",
       "\t<tr><th scope=col>neighbors</th><th scope=col>mean</th><th scope=col>.metric</th></tr>\n",
       "\t<tr><th scope=col>&lt;dbl&gt;</th><th scope=col>&lt;dbl&gt;</th><th scope=col>&lt;chr&gt;</th></tr>\n",
       "</thead>\n",
       "<tbody>\n",
       "\t<tr><td>6</td><td>0.6269697</td><td>accuracy</td></tr>\n",
       "</tbody>\n",
       "</table>\n"
      ],
      "text/latex": [
       "A tibble: 1 × 3\n",
       "\\begin{tabular}{lll}\n",
       " neighbors & mean & .metric\\\\\n",
       " <dbl> & <dbl> & <chr>\\\\\n",
       "\\hline\n",
       "\t 6 & 0.6269697 & accuracy\\\\\n",
       "\\end{tabular}\n"
      ],
      "text/markdown": [
       "\n",
       "A tibble: 1 × 3\n",
       "\n",
       "| neighbors &lt;dbl&gt; | mean &lt;dbl&gt; | .metric &lt;chr&gt; |\n",
       "|---|---|---|\n",
       "| 6 | 0.6269697 | accuracy |\n",
       "\n"
      ],
      "text/plain": [
       "  neighbors mean      .metric \n",
       "1 6         0.6269697 accuracy"
      ]
     },
     "metadata": {},
     "output_type": "display_data"
    },
    {
     "data": {
      "text/html": [
       "<table class=\"dataframe\">\n",
       "<caption>A tibble: 2 × 3</caption>\n",
       "<thead>\n",
       "\t<tr><th scope=col>neighbors</th><th scope=col>mean</th><th scope=col>.metric</th></tr>\n",
       "\t<tr><th scope=col>&lt;dbl&gt;</th><th scope=col>&lt;dbl&gt;</th><th scope=col>&lt;chr&gt;</th></tr>\n",
       "</thead>\n",
       "<tbody>\n",
       "\t<tr><td>31</td><td>0.7025253</td><td>accuracy</td></tr>\n",
       "\t<tr><td>46</td><td>0.7025253</td><td>accuracy</td></tr>\n",
       "</tbody>\n",
       "</table>\n"
      ],
      "text/latex": [
       "A tibble: 2 × 3\n",
       "\\begin{tabular}{lll}\n",
       " neighbors & mean & .metric\\\\\n",
       " <dbl> & <dbl> & <chr>\\\\\n",
       "\\hline\n",
       "\t 31 & 0.7025253 & accuracy\\\\\n",
       "\t 46 & 0.7025253 & accuracy\\\\\n",
       "\\end{tabular}\n"
      ],
      "text/markdown": [
       "\n",
       "A tibble: 2 × 3\n",
       "\n",
       "| neighbors &lt;dbl&gt; | mean &lt;dbl&gt; | .metric &lt;chr&gt; |\n",
       "|---|---|---|\n",
       "| 31 | 0.7025253 | accuracy |\n",
       "| 46 | 0.7025253 | accuracy |\n",
       "\n"
      ],
      "text/plain": [
       "  neighbors mean      .metric \n",
       "1 31        0.7025253 accuracy\n",
       "2 46        0.7025253 accuracy"
      ]
     },
     "metadata": {},
     "output_type": "display_data"
    }
   ],
   "source": [
    "heart_fit_age_acc <- heart_results_age |>\n",
    "                        select(neighbors, mean, .metric) |>\n",
    "                            filter(.metric == \"accuracy\") |>\n",
    "                                slice_max(order_by = mean, n = 1)\n",
    "    \n",
    "heart_fit_age_acc\n",
    "\n",
    "heart_fit_a_s_acc <- heart_results_a_s_ |>\n",
    "                        select(neighbors, mean, .metric) |>\n",
    "                            filter(.metric == \"accuracy\") |>\n",
    "                                slice_max(order_by = mean, n = 1)\n",
    "heart_fit_a_s_acc\n",
    "\n",
    "heart_fit_a_s_c_acc <- heart_results_a_s_c_ |>\n",
    "                        select(neighbors, mean, .metric) |>\n",
    "                            filter(.metric == \"accuracy\") |>\n",
    "                                slice_max(order_by = mean, n = 1)\n",
    "heart_fit_a_s_c_acc\n",
    "\n",
    "heart_fit_a_s_c_th_acc <- heart_results_a_s_c_th |>\n",
    "                            select(neighbors, mean, .metric) |>\n",
    "                                filter(.metric == \"accuracy\") |>\n",
    "                                    slice_max(order_by = mean, n = 1)\n",
    "heart_fit_a_s_c_th_acc"
   ]
  },
  {
   "cell_type": "code",
   "execution_count": 30,
   "id": "7fa01ca9-db59-4a83-89fe-79b3ff8ac5b9",
   "metadata": {
    "tags": []
   },
   "outputs": [],
   "source": [
    "heart_spec_age <- nearest_neighbor(weight = \"rectangular\", neighbors = 56) |>\n",
    "                    set_engine(\"kknn\") |>\n",
    "                        set_mode(\"classification\")\n",
    "\n",
    "heart_spec_a_s <- nearest_neighbor(weight=\"rectangular\", neighbors = 56) |>\n",
    "                    set_engine(\"kknn\") |>\n",
    "                        set_mode(\"classification\")\n",
    "\n",
    "heart_spec_a_s_c <- nearest_neighbor(weight=\"rectangular\", neighbors = 6) |>\n",
    "                        set_engine(\"kknn\") |>\n",
    "                            set_mode(\"classification\")\n",
    "\n",
    "heart_spec_a_s_c_th <- nearest_neighbor(weight=\"rectangular\", neighbors = 46) |>\n",
    "                        set_engine(\"kknn\") |>\n",
    "                            set_mode(\"classification\")"
   ]
  },
  {
   "cell_type": "code",
   "execution_count": 48,
   "id": "e19b76d2-a0d7-43e0-aa00-d75f001a74c5",
   "metadata": {
    "tags": []
   },
   "outputs": [
    {
     "data": {
      "text/html": [
       "<table class=\"dataframe\">\n",
       "<caption>A tibble: 1 × 4</caption>\n",
       "<thead>\n",
       "\t<tr><th scope=col>.metric</th><th scope=col>.estimator</th><th scope=col>.estimate</th><th scope=col>predictor</th></tr>\n",
       "\t<tr><th scope=col>&lt;chr&gt;</th><th scope=col>&lt;chr&gt;</th><th scope=col>&lt;dbl&gt;</th><th scope=col>&lt;chr&gt;</th></tr>\n",
       "</thead>\n",
       "<tbody>\n",
       "\t<tr><td>accuracy</td><td>binary</td><td>0.7466667</td><td>Age</td></tr>\n",
       "</tbody>\n",
       "</table>\n"
      ],
      "text/latex": [
       "A tibble: 1 × 4\n",
       "\\begin{tabular}{llll}\n",
       " .metric & .estimator & .estimate & predictor\\\\\n",
       " <chr> & <chr> & <dbl> & <chr>\\\\\n",
       "\\hline\n",
       "\t accuracy & binary & 0.7466667 & Age\\\\\n",
       "\\end{tabular}\n"
      ],
      "text/markdown": [
       "\n",
       "A tibble: 1 × 4\n",
       "\n",
       "| .metric &lt;chr&gt; | .estimator &lt;chr&gt; | .estimate &lt;dbl&gt; | predictor &lt;chr&gt; |\n",
       "|---|---|---|---|\n",
       "| accuracy | binary | 0.7466667 | Age |\n",
       "\n"
      ],
      "text/plain": [
       "  .metric  .estimator .estimate predictor\n",
       "1 accuracy binary     0.7466667 Age      "
      ]
     },
     "metadata": {},
     "output_type": "display_data"
    },
    {
     "data": {
      "text/plain": [
       "          Truth\n",
       "Prediction healthy sick\n",
       "   healthy      31   10\n",
       "   sick          9   25"
      ]
     },
     "metadata": {},
     "output_type": "display_data"
    },
    {
     "data": {
      "text/html": [
       "75.609756097561"
      ],
      "text/latex": [
       "75.609756097561"
      ],
      "text/markdown": [
       "75.609756097561"
      ],
      "text/plain": [
       "[1] 75.60976"
      ]
     },
     "metadata": {},
     "output_type": "display_data"
    },
    {
     "data": {
      "text/html": [
       "77.5"
      ],
      "text/latex": [
       "77.5"
      ],
      "text/markdown": [
       "77.5"
      ],
      "text/plain": [
       "[1] 77.5"
      ]
     },
     "metadata": {},
     "output_type": "display_data"
    }
   ],
   "source": [
    "heart_fit_age <- workflow() |>\n",
    "                    add_recipe(heart_recipe_age) |>\n",
    "                        add_model(heart_spec_age) |>\n",
    "                            fit(heart_training) \n",
    "\n",
    "heart_pred_age <- heart_fit_age |>\n",
    "                    predict(heart_testing) |>\n",
    "                        bind_cols(heart_testing) \n",
    "\n",
    "heart_pred_metrics_age <- heart_pred_age |>\n",
    "                            metrics(truth = num, estimate = .pred_class) |>\n",
    "                                filter(.metric == \"accuracy\")\n",
    "\n",
    "accuracy_age <- heart_pred_metrics_age|>\n",
    "                    mutate(predictor = c(\"Age\"))\n",
    "accuracy_age\n",
    "\n",
    "heart_pred_conf_age <- heart_pred_age |>\n",
    "                        conf_mat(truth = num, estimate = .pred_class)\n",
    "heart_pred_conf_age\n",
    "\n",
    "heart_pred_precision_age <- (31/(31+10))*100\n",
    "\n",
    "heart_pred_precision_age\n",
    "\n",
    "heart_pred_recall_age <- (31/(31+9))*100\n",
    "\n",
    "heart_pred_recall_age"
   ]
  },
  {
   "cell_type": "code",
   "execution_count": 49,
   "id": "6c4157cc-cb43-4798-a14b-8b5c7a677065",
   "metadata": {
    "tags": []
   },
   "outputs": [
    {
     "data": {
      "text/html": [
       "<table class=\"dataframe\">\n",
       "<caption>A tibble: 1 × 4</caption>\n",
       "<thead>\n",
       "\t<tr><th scope=col>.metric</th><th scope=col>.estimator</th><th scope=col>.estimate</th><th scope=col>predictor</th></tr>\n",
       "\t<tr><th scope=col>&lt;chr&gt;</th><th scope=col>&lt;chr&gt;</th><th scope=col>&lt;dbl&gt;</th><th scope=col>&lt;chr&gt;</th></tr>\n",
       "</thead>\n",
       "<tbody>\n",
       "\t<tr><td>accuracy</td><td>binary</td><td>0.7733333</td><td>Age and Sex</td></tr>\n",
       "</tbody>\n",
       "</table>\n"
      ],
      "text/latex": [
       "A tibble: 1 × 4\n",
       "\\begin{tabular}{llll}\n",
       " .metric & .estimator & .estimate & predictor\\\\\n",
       " <chr> & <chr> & <dbl> & <chr>\\\\\n",
       "\\hline\n",
       "\t accuracy & binary & 0.7733333 & Age and Sex\\\\\n",
       "\\end{tabular}\n"
      ],
      "text/markdown": [
       "\n",
       "A tibble: 1 × 4\n",
       "\n",
       "| .metric &lt;chr&gt; | .estimator &lt;chr&gt; | .estimate &lt;dbl&gt; | predictor &lt;chr&gt; |\n",
       "|---|---|---|---|\n",
       "| accuracy | binary | 0.7733333 | Age and Sex |\n",
       "\n"
      ],
      "text/plain": [
       "  .metric  .estimator .estimate predictor  \n",
       "1 accuracy binary     0.7733333 Age and Sex"
      ]
     },
     "metadata": {},
     "output_type": "display_data"
    },
    {
     "data": {
      "text/plain": [
       "          Truth\n",
       "Prediction healthy sick\n",
       "   healthy      32    9\n",
       "   sick          8   26"
      ]
     },
     "metadata": {},
     "output_type": "display_data"
    },
    {
     "data": {
      "text/html": [
       "78.0487804878049"
      ],
      "text/latex": [
       "78.0487804878049"
      ],
      "text/markdown": [
       "78.0487804878049"
      ],
      "text/plain": [
       "[1] 78.04878"
      ]
     },
     "metadata": {},
     "output_type": "display_data"
    },
    {
     "data": {
      "text/html": [
       "80"
      ],
      "text/latex": [
       "80"
      ],
      "text/markdown": [
       "80"
      ],
      "text/plain": [
       "[1] 80"
      ]
     },
     "metadata": {},
     "output_type": "display_data"
    }
   ],
   "source": [
    "heart_fit_a_s <- workflow() |>\n",
    "                    add_recipe(heart_recipe_a_s) |>\n",
    "                        add_model(heart_spec_a_s) |>\n",
    "                            fit(heart_training) \n",
    "\n",
    "heart_pred_a_s <- heart_fit_a_s |>\n",
    "                    predict(heart_testing) |>\n",
    "                        bind_cols(heart_testing) \n",
    "\n",
    "heart_pred_metrics_a_s <- heart_pred_a_s |>\n",
    "                            metrics(truth = num, estimate=.pred_class) |>\n",
    "                                filter(.metric == \"accuracy\")\n",
    "\n",
    "accuracy_a_s <- heart_pred_metrics_a_s|>\n",
    "                    mutate(predictor = c(\"Age and Sex\"))\n",
    "accuracy_a_s\n",
    "\n",
    "heart_pred_conf_a_s <- heart_pred_a_s |>\n",
    "                        conf_mat(truth = num, estimate = .pred_class)\n",
    "heart_pred_conf_a_s\n",
    "\n",
    "heart_pred_precision_a_s <- (32/(32+9))*100\n",
    "\n",
    "heart_pred_precision_a_s\n",
    "\n",
    "heart_pred_recall_a_s <- (32/(32+8))*100\n",
    "\n",
    "heart_pred_recall_a_s"
   ]
  },
  {
   "cell_type": "code",
   "execution_count": 50,
   "id": "7d81f5bd-6967-4e3d-83e9-c30627178fec",
   "metadata": {
    "tags": []
   },
   "outputs": [
    {
     "data": {
      "text/html": [
       "<table class=\"dataframe\">\n",
       "<caption>A tibble: 1 × 4</caption>\n",
       "<thead>\n",
       "\t<tr><th scope=col>.metric</th><th scope=col>.estimator</th><th scope=col>.estimate</th><th scope=col>predictor</th></tr>\n",
       "\t<tr><th scope=col>&lt;chr&gt;</th><th scope=col>&lt;chr&gt;</th><th scope=col>&lt;dbl&gt;</th><th scope=col>&lt;chr&gt;</th></tr>\n",
       "</thead>\n",
       "<tbody>\n",
       "\t<tr><td>accuracy</td><td>binary</td><td>0.6266667</td><td>Age, Sex and Cholesterol</td></tr>\n",
       "</tbody>\n",
       "</table>\n"
      ],
      "text/latex": [
       "A tibble: 1 × 4\n",
       "\\begin{tabular}{llll}\n",
       " .metric & .estimator & .estimate & predictor\\\\\n",
       " <chr> & <chr> & <dbl> & <chr>\\\\\n",
       "\\hline\n",
       "\t accuracy & binary & 0.6266667 & Age, Sex and Cholesterol\\\\\n",
       "\\end{tabular}\n"
      ],
      "text/markdown": [
       "\n",
       "A tibble: 1 × 4\n",
       "\n",
       "| .metric &lt;chr&gt; | .estimator &lt;chr&gt; | .estimate &lt;dbl&gt; | predictor &lt;chr&gt; |\n",
       "|---|---|---|---|\n",
       "| accuracy | binary | 0.6266667 | Age, Sex and Cholesterol |\n",
       "\n"
      ],
      "text/plain": [
       "  .metric  .estimator .estimate predictor               \n",
       "1 accuracy binary     0.6266667 Age, Sex and Cholesterol"
      ]
     },
     "metadata": {},
     "output_type": "display_data"
    },
    {
     "data": {
      "text/plain": [
       "          Truth\n",
       "Prediction healthy sick\n",
       "   healthy      28   16\n",
       "   sick         12   19"
      ]
     },
     "metadata": {},
     "output_type": "display_data"
    },
    {
     "data": {
      "text/html": [
       "63.6363636363636"
      ],
      "text/latex": [
       "63.6363636363636"
      ],
      "text/markdown": [
       "63.6363636363636"
      ],
      "text/plain": [
       "[1] 63.63636"
      ]
     },
     "metadata": {},
     "output_type": "display_data"
    },
    {
     "data": {
      "text/html": [
       "70"
      ],
      "text/latex": [
       "70"
      ],
      "text/markdown": [
       "70"
      ],
      "text/plain": [
       "[1] 70"
      ]
     },
     "metadata": {},
     "output_type": "display_data"
    }
   ],
   "source": [
    "heart_fit_a_s_c <- workflow() |>\n",
    "                    add_recipe(heart_recipe_a_s_c) |>\n",
    "                        add_model(heart_spec_a_s_c) |>\n",
    "                            fit(heart_training) \n",
    "\n",
    "heart_pred_a_s_c <- heart_fit_a_s_c |>\n",
    "                        predict(heart_testing) |>\n",
    "                            bind_cols(heart_testing) \n",
    "\n",
    "heart_pred_metrics_a_s_c <- heart_pred_a_s_c |>\n",
    "                                metrics(truth = num, estimate=.pred_class) |>\n",
    "                                    filter(.metric == \"accuracy\")\n",
    "\n",
    "accuracy_a_s_c <- heart_pred_metrics_a_s_c|>\n",
    "                    mutate(predictor = c(\"Age, Sex and Cholesterol\"))\n",
    "accuracy_a_s_c\n",
    "\n",
    "heart_pred_conf_a_s_c <- heart_pred_a_s_c |>\n",
    "                            conf_mat(truth = num, estimate = .pred_class)\n",
    "heart_pred_conf_a_s_c\n",
    "\n",
    "heart_pred_precision_a_s_c <- (28/(28+16))*100\n",
    "\n",
    "heart_pred_precision_a_s_c\n",
    "\n",
    "heart_pred_recall_a_s_c <- (28/(28+12))*100\n",
    "\n",
    "heart_pred_recall_a_s_c"
   ]
  },
  {
   "cell_type": "code",
   "execution_count": 52,
   "id": "723443a1-e0e3-4bd8-9d06-8b9625029bbc",
   "metadata": {
    "tags": []
   },
   "outputs": [
    {
     "data": {
      "text/html": [
       "<table class=\"dataframe\">\n",
       "<caption>A tibble: 1 × 4</caption>\n",
       "<thead>\n",
       "\t<tr><th scope=col>.metric</th><th scope=col>.estimator</th><th scope=col>.estimate</th><th scope=col>predictor</th></tr>\n",
       "\t<tr><th scope=col>&lt;chr&gt;</th><th scope=col>&lt;chr&gt;</th><th scope=col>&lt;dbl&gt;</th><th scope=col>&lt;chr&gt;</th></tr>\n",
       "</thead>\n",
       "<tbody>\n",
       "\t<tr><td>accuracy</td><td>binary</td><td>0.7466667</td><td>Age, Sex, Cholesterol and Max-heartrate</td></tr>\n",
       "</tbody>\n",
       "</table>\n"
      ],
      "text/latex": [
       "A tibble: 1 × 4\n",
       "\\begin{tabular}{llll}\n",
       " .metric & .estimator & .estimate & predictor\\\\\n",
       " <chr> & <chr> & <dbl> & <chr>\\\\\n",
       "\\hline\n",
       "\t accuracy & binary & 0.7466667 & Age, Sex, Cholesterol and Max-heartrate\\\\\n",
       "\\end{tabular}\n"
      ],
      "text/markdown": [
       "\n",
       "A tibble: 1 × 4\n",
       "\n",
       "| .metric &lt;chr&gt; | .estimator &lt;chr&gt; | .estimate &lt;dbl&gt; | predictor &lt;chr&gt; |\n",
       "|---|---|---|---|\n",
       "| accuracy | binary | 0.7466667 | Age, Sex, Cholesterol and Max-heartrate |\n",
       "\n"
      ],
      "text/plain": [
       "  .metric  .estimator .estimate predictor                              \n",
       "1 accuracy binary     0.7466667 Age, Sex, Cholesterol and Max-heartrate"
      ]
     },
     "metadata": {},
     "output_type": "display_data"
    },
    {
     "data": {
      "text/plain": [
       "          Truth\n",
       "Prediction healthy sick\n",
       "   healthy      34   13\n",
       "   sick          6   22"
      ]
     },
     "metadata": {},
     "output_type": "display_data"
    },
    {
     "data": {
      "text/html": [
       "72.3404255319149"
      ],
      "text/latex": [
       "72.3404255319149"
      ],
      "text/markdown": [
       "72.3404255319149"
      ],
      "text/plain": [
       "[1] 72.34043"
      ]
     },
     "metadata": {},
     "output_type": "display_data"
    },
    {
     "data": {
      "text/html": [
       "85"
      ],
      "text/latex": [
       "85"
      ],
      "text/markdown": [
       "85"
      ],
      "text/plain": [
       "[1] 85"
      ]
     },
     "metadata": {},
     "output_type": "display_data"
    }
   ],
   "source": [
    "heart_fit_a_s_c_th <- workflow() |>\n",
    "                        add_recipe(heart_recipe_a_s_c_th) |>\n",
    "                            add_model(heart_spec_a_s_c_th) |>\n",
    "                                fit(heart_training) \n",
    "\n",
    "heart_pred_a_s_c_th <- heart_fit_a_s_c_th |>\n",
    "                        predict(heart_testing) |>\n",
    "                            bind_cols(heart_testing) \n",
    "\n",
    "heart_pred_metrics_a_s_c_th <- heart_pred_a_s_c_th |>\n",
    "                                metrics(truth = num, estimate=.pred_class) |>\n",
    "                                    filter(.metric == \"accuracy\")\n",
    "\n",
    "accuracy_a_s_c_th <- heart_pred_metrics_a_s_c_th|>\n",
    "                        mutate(predictor = c(\"Age, Sex, Cholesterol and Max-heartrate\"))\n",
    "\n",
    "accuracy_a_s_c_th\n",
    "\n",
    "heart_pred_conf_a_s_c_th <- heart_pred_a_s_c_th |>\n",
    "                            conf_mat(truth = num, estimate = .pred_class)\n",
    "heart_pred_conf_a_s_c_th\n",
    "\n",
    "heart_pred_precision_a_s_c_th <- (34/(34+13))*100\n",
    "\n",
    "heart_pred_precision_a_s_c_th\n",
    "\n",
    "heart_pred_recall_a_s_c_th <- (34/(34+6))*100\n",
    "\n",
    "heart_pred_recall_a_s_c_th"
   ]
  },
  {
   "cell_type": "code",
   "execution_count": 55,
   "id": "d131770c-93de-4fd3-9c03-f21cb5209eaa",
   "metadata": {
    "tags": []
   },
   "outputs": [
    {
     "data": {
      "text/html": [
       "<table class=\"dataframe\">\n",
       "<caption>A tibble: 1 × 4</caption>\n",
       "<thead>\n",
       "\t<tr><th scope=col>.metric</th><th scope=col>.estimator</th><th scope=col>.estimate</th><th scope=col>predictor</th></tr>\n",
       "\t<tr><th scope=col>&lt;chr&gt;</th><th scope=col>&lt;chr&gt;</th><th scope=col>&lt;dbl&gt;</th><th scope=col>&lt;chr&gt;</th></tr>\n",
       "</thead>\n",
       "<tbody>\n",
       "\t<tr><td>accuracy</td><td>binary</td><td>0.7733333</td><td>Age and Sex</td></tr>\n",
       "</tbody>\n",
       "</table>\n"
      ],
      "text/latex": [
       "A tibble: 1 × 4\n",
       "\\begin{tabular}{llll}\n",
       " .metric & .estimator & .estimate & predictor\\\\\n",
       " <chr> & <chr> & <dbl> & <chr>\\\\\n",
       "\\hline\n",
       "\t accuracy & binary & 0.7733333 & Age and Sex\\\\\n",
       "\\end{tabular}\n"
      ],
      "text/markdown": [
       "\n",
       "A tibble: 1 × 4\n",
       "\n",
       "| .metric &lt;chr&gt; | .estimator &lt;chr&gt; | .estimate &lt;dbl&gt; | predictor &lt;chr&gt; |\n",
       "|---|---|---|---|\n",
       "| accuracy | binary | 0.7733333 | Age and Sex |\n",
       "\n"
      ],
      "text/plain": [
       "  .metric  .estimator .estimate predictor  \n",
       "1 accuracy binary     0.7733333 Age and Sex"
      ]
     },
     "metadata": {},
     "output_type": "display_data"
    }
   ],
   "source": [
    "best_accuracy <- bind_rows(accuracy_age, accuracy_a_s, accuracy_a_s_c, accuracy_a_s_c_th)|>\n",
    "                    filter(.estimate == max(.estimate))\n",
    "best_accuracy"
   ]
  }
 ],
 "metadata": {
  "kernelspec": {
   "display_name": "R",
   "language": "R",
   "name": "ir"
  },
  "language_info": {
   "codemirror_mode": "r",
   "file_extension": ".r",
   "mimetype": "text/x-r-source",
   "name": "R",
   "pygments_lexer": "r",
   "version": "4.2.2"
  }
 },
 "nbformat": 4,
 "nbformat_minor": 5
}
